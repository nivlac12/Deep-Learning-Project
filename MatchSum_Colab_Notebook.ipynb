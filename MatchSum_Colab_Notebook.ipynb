{
  "nbformat": 4,
  "nbformat_minor": 0,
  "metadata": {
    "colab": {
      "provenance": [],
      "machine_shape": "hm"
    },
    "kernelspec": {
      "name": "python3",
      "display_name": "Python 3"
    },
    "language_info": {
      "name": "python"
    },
    "gpuClass": "premium",
    "accelerator": "GPU",
    "widgets": {
      "application/vnd.jupyter.widget-state+json": {
        "83d1e5cf882b424daa62f16416ceec76": {
          "model_module": "@jupyter-widgets/controls",
          "model_name": "HBoxModel",
          "model_module_version": "1.5.0",
          "state": {
            "_dom_classes": [],
            "_model_module": "@jupyter-widgets/controls",
            "_model_module_version": "1.5.0",
            "_model_name": "HBoxModel",
            "_view_count": null,
            "_view_module": "@jupyter-widgets/controls",
            "_view_module_version": "1.5.0",
            "_view_name": "HBoxView",
            "box_style": "",
            "children": [
              "IPY_MODEL_79e3c3b9c02d4c438421dbab22cd4001",
              "IPY_MODEL_070ef808b2b746bb999b0cad46fbc322",
              "IPY_MODEL_72f839d97f5f469bba3d545aace23d49"
            ],
            "layout": "IPY_MODEL_08fdcf57e54049dab7f8f8ec9a542970"
          }
        },
        "79e3c3b9c02d4c438421dbab22cd4001": {
          "model_module": "@jupyter-widgets/controls",
          "model_name": "HTMLModel",
          "model_module_version": "1.5.0",
          "state": {
            "_dom_classes": [],
            "_model_module": "@jupyter-widgets/controls",
            "_model_module_version": "1.5.0",
            "_model_name": "HTMLModel",
            "_view_count": null,
            "_view_module": "@jupyter-widgets/controls",
            "_view_module_version": "1.5.0",
            "_view_name": "HTMLView",
            "description": "",
            "description_tooltip": null,
            "layout": "IPY_MODEL_b05d947a0720452c8d172547a94d6f19",
            "placeholder": "​",
            "style": "IPY_MODEL_62427f176fd94e96891b1b6687f5421b",
            "value": "Downloading: 100%"
          }
        },
        "070ef808b2b746bb999b0cad46fbc322": {
          "model_module": "@jupyter-widgets/controls",
          "model_name": "FloatProgressModel",
          "model_module_version": "1.5.0",
          "state": {
            "_dom_classes": [],
            "_model_module": "@jupyter-widgets/controls",
            "_model_module_version": "1.5.0",
            "_model_name": "FloatProgressModel",
            "_view_count": null,
            "_view_module": "@jupyter-widgets/controls",
            "_view_module_version": "1.5.0",
            "_view_name": "ProgressView",
            "bar_style": "success",
            "description": "",
            "description_tooltip": null,
            "layout": "IPY_MODEL_bb4795c8dd2b455eaa0b068b43559e3e",
            "max": 442,
            "min": 0,
            "orientation": "horizontal",
            "style": "IPY_MODEL_733fdfb65d094dc19a5736080d4466c6",
            "value": 442
          }
        },
        "72f839d97f5f469bba3d545aace23d49": {
          "model_module": "@jupyter-widgets/controls",
          "model_name": "HTMLModel",
          "model_module_version": "1.5.0",
          "state": {
            "_dom_classes": [],
            "_model_module": "@jupyter-widgets/controls",
            "_model_module_version": "1.5.0",
            "_model_name": "HTMLModel",
            "_view_count": null,
            "_view_module": "@jupyter-widgets/controls",
            "_view_module_version": "1.5.0",
            "_view_name": "HTMLView",
            "description": "",
            "description_tooltip": null,
            "layout": "IPY_MODEL_7a242a55769445819d590adc28a5158a",
            "placeholder": "​",
            "style": "IPY_MODEL_f88b0bcfdf394efd87fa6b04e6618891",
            "value": " 442/442 [00:00&lt;00:00, 17.2kB/s]"
          }
        },
        "08fdcf57e54049dab7f8f8ec9a542970": {
          "model_module": "@jupyter-widgets/base",
          "model_name": "LayoutModel",
          "model_module_version": "1.2.0",
          "state": {
            "_model_module": "@jupyter-widgets/base",
            "_model_module_version": "1.2.0",
            "_model_name": "LayoutModel",
            "_view_count": null,
            "_view_module": "@jupyter-widgets/base",
            "_view_module_version": "1.2.0",
            "_view_name": "LayoutView",
            "align_content": null,
            "align_items": null,
            "align_self": null,
            "border": null,
            "bottom": null,
            "display": null,
            "flex": null,
            "flex_flow": null,
            "grid_area": null,
            "grid_auto_columns": null,
            "grid_auto_flow": null,
            "grid_auto_rows": null,
            "grid_column": null,
            "grid_gap": null,
            "grid_row": null,
            "grid_template_areas": null,
            "grid_template_columns": null,
            "grid_template_rows": null,
            "height": null,
            "justify_content": null,
            "justify_items": null,
            "left": null,
            "margin": null,
            "max_height": null,
            "max_width": null,
            "min_height": null,
            "min_width": null,
            "object_fit": null,
            "object_position": null,
            "order": null,
            "overflow": null,
            "overflow_x": null,
            "overflow_y": null,
            "padding": null,
            "right": null,
            "top": null,
            "visibility": null,
            "width": null
          }
        },
        "b05d947a0720452c8d172547a94d6f19": {
          "model_module": "@jupyter-widgets/base",
          "model_name": "LayoutModel",
          "model_module_version": "1.2.0",
          "state": {
            "_model_module": "@jupyter-widgets/base",
            "_model_module_version": "1.2.0",
            "_model_name": "LayoutModel",
            "_view_count": null,
            "_view_module": "@jupyter-widgets/base",
            "_view_module_version": "1.2.0",
            "_view_name": "LayoutView",
            "align_content": null,
            "align_items": null,
            "align_self": null,
            "border": null,
            "bottom": null,
            "display": null,
            "flex": null,
            "flex_flow": null,
            "grid_area": null,
            "grid_auto_columns": null,
            "grid_auto_flow": null,
            "grid_auto_rows": null,
            "grid_column": null,
            "grid_gap": null,
            "grid_row": null,
            "grid_template_areas": null,
            "grid_template_columns": null,
            "grid_template_rows": null,
            "height": null,
            "justify_content": null,
            "justify_items": null,
            "left": null,
            "margin": null,
            "max_height": null,
            "max_width": null,
            "min_height": null,
            "min_width": null,
            "object_fit": null,
            "object_position": null,
            "order": null,
            "overflow": null,
            "overflow_x": null,
            "overflow_y": null,
            "padding": null,
            "right": null,
            "top": null,
            "visibility": null,
            "width": null
          }
        },
        "62427f176fd94e96891b1b6687f5421b": {
          "model_module": "@jupyter-widgets/controls",
          "model_name": "DescriptionStyleModel",
          "model_module_version": "1.5.0",
          "state": {
            "_model_module": "@jupyter-widgets/controls",
            "_model_module_version": "1.5.0",
            "_model_name": "DescriptionStyleModel",
            "_view_count": null,
            "_view_module": "@jupyter-widgets/base",
            "_view_module_version": "1.2.0",
            "_view_name": "StyleView",
            "description_width": ""
          }
        },
        "bb4795c8dd2b455eaa0b068b43559e3e": {
          "model_module": "@jupyter-widgets/base",
          "model_name": "LayoutModel",
          "model_module_version": "1.2.0",
          "state": {
            "_model_module": "@jupyter-widgets/base",
            "_model_module_version": "1.2.0",
            "_model_name": "LayoutModel",
            "_view_count": null,
            "_view_module": "@jupyter-widgets/base",
            "_view_module_version": "1.2.0",
            "_view_name": "LayoutView",
            "align_content": null,
            "align_items": null,
            "align_self": null,
            "border": null,
            "bottom": null,
            "display": null,
            "flex": null,
            "flex_flow": null,
            "grid_area": null,
            "grid_auto_columns": null,
            "grid_auto_flow": null,
            "grid_auto_rows": null,
            "grid_column": null,
            "grid_gap": null,
            "grid_row": null,
            "grid_template_areas": null,
            "grid_template_columns": null,
            "grid_template_rows": null,
            "height": null,
            "justify_content": null,
            "justify_items": null,
            "left": null,
            "margin": null,
            "max_height": null,
            "max_width": null,
            "min_height": null,
            "min_width": null,
            "object_fit": null,
            "object_position": null,
            "order": null,
            "overflow": null,
            "overflow_x": null,
            "overflow_y": null,
            "padding": null,
            "right": null,
            "top": null,
            "visibility": null,
            "width": null
          }
        },
        "733fdfb65d094dc19a5736080d4466c6": {
          "model_module": "@jupyter-widgets/controls",
          "model_name": "ProgressStyleModel",
          "model_module_version": "1.5.0",
          "state": {
            "_model_module": "@jupyter-widgets/controls",
            "_model_module_version": "1.5.0",
            "_model_name": "ProgressStyleModel",
            "_view_count": null,
            "_view_module": "@jupyter-widgets/base",
            "_view_module_version": "1.2.0",
            "_view_name": "StyleView",
            "bar_color": null,
            "description_width": ""
          }
        },
        "7a242a55769445819d590adc28a5158a": {
          "model_module": "@jupyter-widgets/base",
          "model_name": "LayoutModel",
          "model_module_version": "1.2.0",
          "state": {
            "_model_module": "@jupyter-widgets/base",
            "_model_module_version": "1.2.0",
            "_model_name": "LayoutModel",
            "_view_count": null,
            "_view_module": "@jupyter-widgets/base",
            "_view_module_version": "1.2.0",
            "_view_name": "LayoutView",
            "align_content": null,
            "align_items": null,
            "align_self": null,
            "border": null,
            "bottom": null,
            "display": null,
            "flex": null,
            "flex_flow": null,
            "grid_area": null,
            "grid_auto_columns": null,
            "grid_auto_flow": null,
            "grid_auto_rows": null,
            "grid_column": null,
            "grid_gap": null,
            "grid_row": null,
            "grid_template_areas": null,
            "grid_template_columns": null,
            "grid_template_rows": null,
            "height": null,
            "justify_content": null,
            "justify_items": null,
            "left": null,
            "margin": null,
            "max_height": null,
            "max_width": null,
            "min_height": null,
            "min_width": null,
            "object_fit": null,
            "object_position": null,
            "order": null,
            "overflow": null,
            "overflow_x": null,
            "overflow_y": null,
            "padding": null,
            "right": null,
            "top": null,
            "visibility": null,
            "width": null
          }
        },
        "f88b0bcfdf394efd87fa6b04e6618891": {
          "model_module": "@jupyter-widgets/controls",
          "model_name": "DescriptionStyleModel",
          "model_module_version": "1.5.0",
          "state": {
            "_model_module": "@jupyter-widgets/controls",
            "_model_module_version": "1.5.0",
            "_model_name": "DescriptionStyleModel",
            "_view_count": null,
            "_view_module": "@jupyter-widgets/base",
            "_view_module_version": "1.2.0",
            "_view_name": "StyleView",
            "description_width": ""
          }
        }
      }
    }
  },
  "cells": [
    {
      "cell_type": "markdown",
      "source": [
        "Check gpu"
      ],
      "metadata": {
        "id": "9_sRCCC76BKB"
      }
    },
    {
      "cell_type": "code",
      "source": [
        "gpu_info = !nvidia-smi\n",
        "gpu_info = '\\n'.join(gpu_info)\n",
        "if gpu_info.find('failed') >= 0:\n",
        "  print('Not connected to a GPU')\n",
        "else:\n",
        "  print(gpu_info)"
      ],
      "metadata": {
        "colab": {
          "base_uri": "https://localhost:8080/"
        },
        "id": "uZFMODS_6ARM",
        "outputId": "e7a11072-674b-49ed-cbee-ff40988e9354"
      },
      "execution_count": null,
      "outputs": [
        {
          "output_type": "stream",
          "name": "stdout",
          "text": [
            "Thu Dec  8 23:12:12 2022       \n",
            "+-----------------------------------------------------------------------------+\n",
            "| NVIDIA-SMI 460.32.03    Driver Version: 460.32.03    CUDA Version: 11.2     |\n",
            "|-------------------------------+----------------------+----------------------+\n",
            "| GPU  Name        Persistence-M| Bus-Id        Disp.A | Volatile Uncorr. ECC |\n",
            "| Fan  Temp  Perf  Pwr:Usage/Cap|         Memory-Usage | GPU-Util  Compute M. |\n",
            "|                               |                      |               MIG M. |\n",
            "|===============================+======================+======================|\n",
            "|   0  A100-SXM4-40GB      Off  | 00000000:00:04.0 Off |                    0 |\n",
            "| N/A   31C    P0    53W / 400W |      0MiB / 40536MiB |      0%      Default |\n",
            "|                               |                      |             Disabled |\n",
            "+-------------------------------+----------------------+----------------------+\n",
            "                                                                               \n",
            "+-----------------------------------------------------------------------------+\n",
            "| Processes:                                                                  |\n",
            "|  GPU   GI   CI        PID   Type   Process name                  GPU Memory |\n",
            "|        ID   ID                                                   Usage      |\n",
            "|=============================================================================|\n",
            "|  No running processes found                                                 |\n",
            "+-----------------------------------------------------------------------------+\n"
          ]
        }
      ]
    },
    {
      "cell_type": "markdown",
      "source": [
        "Check memory."
      ],
      "metadata": {
        "id": "SaElBavQ57ZQ"
      }
    },
    {
      "cell_type": "code",
      "source": [
        "from psutil import virtual_memory\n",
        "ram_gb = virtual_memory().total / 1e9\n",
        "print('Your runtime has {:.1f} gigabytes of available RAM\\n'.format(ram_gb))\n",
        "\n",
        "if ram_gb < 20:\n",
        "  print('Not using a high-RAM runtime')\n",
        "else:\n",
        "  print('You are using a high-RAM runtime!')"
      ],
      "metadata": {
        "colab": {
          "base_uri": "https://localhost:8080/"
        },
        "id": "DtqFtg9458gc",
        "outputId": "c7a8e421-2ba0-410c-d1f9-af9b077e3200"
      },
      "execution_count": null,
      "outputs": [
        {
          "output_type": "stream",
          "name": "stdout",
          "text": [
            "Your runtime has 89.6 gigabytes of available RAM\n",
            "\n",
            "You are using a high-RAM runtime!\n"
          ]
        }
      ]
    },
    {
      "cell_type": "markdown",
      "source": [
        "Install dependencies"
      ],
      "metadata": {
        "id": "jHaI4TwA6Oe1"
      }
    },
    {
      "cell_type": "code",
      "execution_count": null,
      "metadata": {
        "colab": {
          "base_uri": "https://localhost:8080/",
          "height": 1000
        },
        "id": "j4pN2cwqe1x6",
        "outputId": "1cb02e02-072a-49fd-b7bc-0a4ffe74e915"
      },
      "outputs": [
        {
          "output_type": "stream",
          "name": "stdout",
          "text": [
            "Looking in indexes: https://pypi.org/simple, https://us-python.pkg.dev/colab-wheels/public/simple/\n",
            "Collecting tensorflow==2.5.0\n",
            "  Downloading tensorflow-2.5.0-cp38-cp38-manylinux2010_x86_64.whl (454.4 MB)\n",
            "\u001b[K     |████████████████████████████████| 454.4 MB 42 kB/s \n",
            "\u001b[?25hCollecting absl-py~=0.10\n",
            "  Downloading absl_py-0.15.0-py3-none-any.whl (132 kB)\n",
            "\u001b[K     |████████████████████████████████| 132 kB 74.3 MB/s \n",
            "\u001b[?25hRequirement already satisfied: wheel~=0.35 in /usr/local/lib/python3.8/dist-packages (from tensorflow==2.5.0) (0.38.4)\n",
            "Collecting keras-nightly~=2.5.0.dev\n",
            "  Downloading keras_nightly-2.5.0.dev2021032900-py2.py3-none-any.whl (1.2 MB)\n",
            "\u001b[K     |████████████████████████████████| 1.2 MB 55.5 MB/s \n",
            "\u001b[?25hRequirement already satisfied: gast==0.4.0 in /usr/local/lib/python3.8/dist-packages (from tensorflow==2.5.0) (0.4.0)\n",
            "Collecting tensorflow-estimator<2.6.0,>=2.5.0rc0\n",
            "  Downloading tensorflow_estimator-2.5.0-py2.py3-none-any.whl (462 kB)\n",
            "\u001b[K     |████████████████████████████████| 462 kB 69.8 MB/s \n",
            "\u001b[?25hCollecting grpcio~=1.34.0\n",
            "  Downloading grpcio-1.34.1-cp38-cp38-manylinux2014_x86_64.whl (4.0 MB)\n",
            "\u001b[K     |████████████████████████████████| 4.0 MB 67.0 MB/s \n",
            "\u001b[?25hRequirement already satisfied: tensorboard~=2.5 in /usr/local/lib/python3.8/dist-packages (from tensorflow==2.5.0) (2.9.1)\n",
            "Requirement already satisfied: protobuf>=3.9.2 in /usr/local/lib/python3.8/dist-packages (from tensorflow==2.5.0) (3.19.6)\n",
            "Requirement already satisfied: keras-preprocessing~=1.1.2 in /usr/local/lib/python3.8/dist-packages (from tensorflow==2.5.0) (1.1.2)\n",
            "Collecting wrapt~=1.12.1\n",
            "  Downloading wrapt-1.12.1.tar.gz (27 kB)\n",
            "Collecting typing-extensions~=3.7.4\n",
            "  Downloading typing_extensions-3.7.4.3-py3-none-any.whl (22 kB)\n",
            "Requirement already satisfied: flatbuffers~=1.12.0 in /usr/local/lib/python3.8/dist-packages (from tensorflow==2.5.0) (1.12)\n",
            "Collecting termcolor~=1.1.0\n",
            "  Downloading termcolor-1.1.0.tar.gz (3.9 kB)\n",
            "Requirement already satisfied: google-pasta~=0.2 in /usr/local/lib/python3.8/dist-packages (from tensorflow==2.5.0) (0.2.0)\n",
            "Requirement already satisfied: opt-einsum~=3.3.0 in /usr/local/lib/python3.8/dist-packages (from tensorflow==2.5.0) (3.3.0)\n",
            "Requirement already satisfied: h5py~=3.1.0 in /usr/local/lib/python3.8/dist-packages (from tensorflow==2.5.0) (3.1.0)\n",
            "Requirement already satisfied: six~=1.15.0 in /usr/local/lib/python3.8/dist-packages (from tensorflow==2.5.0) (1.15.0)\n",
            "Collecting numpy~=1.19.2\n",
            "  Downloading numpy-1.19.5-cp38-cp38-manylinux2010_x86_64.whl (14.9 MB)\n",
            "\u001b[K     |████████████████████████████████| 14.9 MB 59.9 MB/s \n",
            "\u001b[?25hRequirement already satisfied: astunparse~=1.6.3 in /usr/local/lib/python3.8/dist-packages (from tensorflow==2.5.0) (1.6.3)\n",
            "Requirement already satisfied: tensorboard-data-server<0.7.0,>=0.6.0 in /usr/local/lib/python3.8/dist-packages (from tensorboard~=2.5->tensorflow==2.5.0) (0.6.1)\n",
            "Requirement already satisfied: google-auth-oauthlib<0.5,>=0.4.1 in /usr/local/lib/python3.8/dist-packages (from tensorboard~=2.5->tensorflow==2.5.0) (0.4.6)\n",
            "Requirement already satisfied: werkzeug>=1.0.1 in /usr/local/lib/python3.8/dist-packages (from tensorboard~=2.5->tensorflow==2.5.0) (1.0.1)\n",
            "Requirement already satisfied: requests<3,>=2.21.0 in /usr/local/lib/python3.8/dist-packages (from tensorboard~=2.5->tensorflow==2.5.0) (2.23.0)\n",
            "Requirement already satisfied: setuptools>=41.0.0 in /usr/local/lib/python3.8/dist-packages (from tensorboard~=2.5->tensorflow==2.5.0) (57.4.0)\n",
            "Requirement already satisfied: google-auth<3,>=1.6.3 in /usr/local/lib/python3.8/dist-packages (from tensorboard~=2.5->tensorflow==2.5.0) (2.15.0)\n",
            "Requirement already satisfied: markdown>=2.6.8 in /usr/local/lib/python3.8/dist-packages (from tensorboard~=2.5->tensorflow==2.5.0) (3.4.1)\n",
            "Requirement already satisfied: tensorboard-plugin-wit>=1.6.0 in /usr/local/lib/python3.8/dist-packages (from tensorboard~=2.5->tensorflow==2.5.0) (1.8.1)\n",
            "Requirement already satisfied: rsa<5,>=3.1.4 in /usr/local/lib/python3.8/dist-packages (from google-auth<3,>=1.6.3->tensorboard~=2.5->tensorflow==2.5.0) (4.9)\n",
            "Requirement already satisfied: cachetools<6.0,>=2.0.0 in /usr/local/lib/python3.8/dist-packages (from google-auth<3,>=1.6.3->tensorboard~=2.5->tensorflow==2.5.0) (5.2.0)\n",
            "Requirement already satisfied: pyasn1-modules>=0.2.1 in /usr/local/lib/python3.8/dist-packages (from google-auth<3,>=1.6.3->tensorboard~=2.5->tensorflow==2.5.0) (0.2.8)\n",
            "Requirement already satisfied: requests-oauthlib>=0.7.0 in /usr/local/lib/python3.8/dist-packages (from google-auth-oauthlib<0.5,>=0.4.1->tensorboard~=2.5->tensorflow==2.5.0) (1.3.1)\n",
            "Requirement already satisfied: importlib-metadata>=4.4 in /usr/local/lib/python3.8/dist-packages (from markdown>=2.6.8->tensorboard~=2.5->tensorflow==2.5.0) (4.13.0)\n",
            "Requirement already satisfied: zipp>=0.5 in /usr/local/lib/python3.8/dist-packages (from importlib-metadata>=4.4->markdown>=2.6.8->tensorboard~=2.5->tensorflow==2.5.0) (3.11.0)\n",
            "Requirement already satisfied: pyasn1<0.5.0,>=0.4.6 in /usr/local/lib/python3.8/dist-packages (from pyasn1-modules>=0.2.1->google-auth<3,>=1.6.3->tensorboard~=2.5->tensorflow==2.5.0) (0.4.8)\n",
            "Requirement already satisfied: urllib3!=1.25.0,!=1.25.1,<1.26,>=1.21.1 in /usr/local/lib/python3.8/dist-packages (from requests<3,>=2.21.0->tensorboard~=2.5->tensorflow==2.5.0) (1.24.3)\n",
            "Requirement already satisfied: chardet<4,>=3.0.2 in /usr/local/lib/python3.8/dist-packages (from requests<3,>=2.21.0->tensorboard~=2.5->tensorflow==2.5.0) (3.0.4)\n",
            "Requirement already satisfied: certifi>=2017.4.17 in /usr/local/lib/python3.8/dist-packages (from requests<3,>=2.21.0->tensorboard~=2.5->tensorflow==2.5.0) (2022.9.24)\n",
            "Requirement already satisfied: idna<3,>=2.5 in /usr/local/lib/python3.8/dist-packages (from requests<3,>=2.21.0->tensorboard~=2.5->tensorflow==2.5.0) (2.10)\n",
            "Requirement already satisfied: oauthlib>=3.0.0 in /usr/local/lib/python3.8/dist-packages (from requests-oauthlib>=0.7.0->google-auth-oauthlib<0.5,>=0.4.1->tensorboard~=2.5->tensorflow==2.5.0) (3.2.2)\n",
            "Building wheels for collected packages: termcolor, wrapt\n",
            "  Building wheel for termcolor (setup.py) ... \u001b[?25l\u001b[?25hdone\n",
            "  Created wheel for termcolor: filename=termcolor-1.1.0-py3-none-any.whl size=4849 sha256=0ddff1aa0d4eb74b5950f109b55a4f9500106cf207b0d8ba78e609876aeef756\n",
            "  Stored in directory: /root/.cache/pip/wheels/a0/16/9c/5473df82468f958445479c59e784896fa24f4a5fc024b0f501\n",
            "  Building wheel for wrapt (setup.py) ... \u001b[?25l\u001b[?25hdone\n",
            "  Created wheel for wrapt: filename=wrapt-1.12.1-cp38-cp38-linux_x86_64.whl size=72337 sha256=84aba9d6d941510542bf47e7b101129f6cc9727d14af5c26a9cf05d014b6b2a2\n",
            "  Stored in directory: /root/.cache/pip/wheels/5f/fd/9e/b6cf5890494cb8ef0b5eaff72e5d55a70fb56316007d6dfe73\n",
            "Successfully built termcolor wrapt\n",
            "Installing collected packages: numpy, grpcio, absl-py, wrapt, typing-extensions, termcolor, tensorflow-estimator, keras-nightly, tensorflow\n",
            "  Attempting uninstall: numpy\n",
            "    Found existing installation: numpy 1.21.6\n",
            "    Uninstalling numpy-1.21.6:\n",
            "      Successfully uninstalled numpy-1.21.6\n",
            "  Attempting uninstall: grpcio\n",
            "    Found existing installation: grpcio 1.51.1\n",
            "    Uninstalling grpcio-1.51.1:\n",
            "      Successfully uninstalled grpcio-1.51.1\n",
            "  Attempting uninstall: absl-py\n",
            "    Found existing installation: absl-py 1.3.0\n",
            "    Uninstalling absl-py-1.3.0:\n",
            "      Successfully uninstalled absl-py-1.3.0\n",
            "  Attempting uninstall: wrapt\n",
            "    Found existing installation: wrapt 1.14.1\n",
            "    Uninstalling wrapt-1.14.1:\n",
            "      Successfully uninstalled wrapt-1.14.1\n",
            "  Attempting uninstall: typing-extensions\n",
            "    Found existing installation: typing-extensions 4.4.0\n",
            "    Uninstalling typing-extensions-4.4.0:\n",
            "      Successfully uninstalled typing-extensions-4.4.0\n",
            "  Attempting uninstall: termcolor\n",
            "    Found existing installation: termcolor 2.1.1\n",
            "    Uninstalling termcolor-2.1.1:\n",
            "      Successfully uninstalled termcolor-2.1.1\n",
            "  Attempting uninstall: tensorflow-estimator\n",
            "    Found existing installation: tensorflow-estimator 2.9.0\n",
            "    Uninstalling tensorflow-estimator-2.9.0:\n",
            "      Successfully uninstalled tensorflow-estimator-2.9.0\n",
            "  Attempting uninstall: tensorflow\n",
            "    Found existing installation: tensorflow 2.9.2\n",
            "    Uninstalling tensorflow-2.9.2:\n",
            "      Successfully uninstalled tensorflow-2.9.2\n",
            "\u001b[31mERROR: pip's dependency resolver does not currently take into account all the packages that are installed. This behaviour is the source of the following dependency conflicts.\n",
            "pydantic 1.10.2 requires typing-extensions>=4.1.0, but you have typing-extensions 3.7.4.3 which is incompatible.\n",
            "jaxlib 0.3.25+cuda11.cudnn805 requires numpy>=1.20, but you have numpy 1.19.5 which is incompatible.\n",
            "jax 0.3.25 requires numpy>=1.20, but you have numpy 1.19.5 which is incompatible.\n",
            "grpcio-status 1.48.2 requires grpcio>=1.48.2, but you have grpcio 1.34.1 which is incompatible.\n",
            "google-cloud-bigquery 3.3.6 requires grpcio<2.0dev,>=1.47.0, but you have grpcio 1.34.1 which is incompatible.\n",
            "cupy-cuda11x 11.0.0 requires numpy<1.26,>=1.20, but you have numpy 1.19.5 which is incompatible.\n",
            "cmdstanpy 1.0.8 requires numpy>=1.21, but you have numpy 1.19.5 which is incompatible.\u001b[0m\n",
            "Successfully installed absl-py-0.15.0 grpcio-1.34.1 keras-nightly-2.5.0.dev2021032900 numpy-1.19.5 tensorflow-2.5.0 tensorflow-estimator-2.5.0 termcolor-1.1.0 typing-extensions-3.7.4.3 wrapt-1.12.1\n"
          ]
        },
        {
          "output_type": "display_data",
          "data": {
            "application/vnd.colab-display-data+json": {
              "pip_warning": {
                "packages": [
                  "numpy"
                ]
              }
            }
          },
          "metadata": {}
        },
        {
          "output_type": "stream",
          "name": "stdout",
          "text": [
            "Looking in indexes: https://pypi.org/simple, https://us-python.pkg.dev/colab-wheels/public/simple/\n",
            "Collecting tensorflow-text==2.5.0\n",
            "  Downloading tensorflow_text-2.5.0-cp38-cp38-manylinux1_x86_64.whl (4.3 MB)\n",
            "\u001b[K     |████████████████████████████████| 4.3 MB 4.7 MB/s \n",
            "\u001b[?25hRequirement already satisfied: tensorflow<2.6,>=2.5.0 in /usr/local/lib/python3.8/dist-packages (from tensorflow-text==2.5.0) (2.5.0)\n",
            "Requirement already satisfied: tensorflow-hub>=0.8.0 in /usr/local/lib/python3.8/dist-packages (from tensorflow-text==2.5.0) (0.12.0)\n",
            "Requirement already satisfied: termcolor~=1.1.0 in /usr/local/lib/python3.8/dist-packages (from tensorflow<2.6,>=2.5.0->tensorflow-text==2.5.0) (1.1.0)\n",
            "Requirement already satisfied: typing-extensions~=3.7.4 in /usr/local/lib/python3.8/dist-packages (from tensorflow<2.6,>=2.5.0->tensorflow-text==2.5.0) (3.7.4.3)\n",
            "Requirement already satisfied: keras-preprocessing~=1.1.2 in /usr/local/lib/python3.8/dist-packages (from tensorflow<2.6,>=2.5.0->tensorflow-text==2.5.0) (1.1.2)\n",
            "Requirement already satisfied: absl-py~=0.10 in /usr/local/lib/python3.8/dist-packages (from tensorflow<2.6,>=2.5.0->tensorflow-text==2.5.0) (0.15.0)\n",
            "Requirement already satisfied: grpcio~=1.34.0 in /usr/local/lib/python3.8/dist-packages (from tensorflow<2.6,>=2.5.0->tensorflow-text==2.5.0) (1.34.1)\n",
            "Requirement already satisfied: keras-nightly~=2.5.0.dev in /usr/local/lib/python3.8/dist-packages (from tensorflow<2.6,>=2.5.0->tensorflow-text==2.5.0) (2.5.0.dev2021032900)\n",
            "Requirement already satisfied: gast==0.4.0 in /usr/local/lib/python3.8/dist-packages (from tensorflow<2.6,>=2.5.0->tensorflow-text==2.5.0) (0.4.0)\n",
            "Requirement already satisfied: six~=1.15.0 in /usr/local/lib/python3.8/dist-packages (from tensorflow<2.6,>=2.5.0->tensorflow-text==2.5.0) (1.15.0)\n",
            "Requirement already satisfied: tensorflow-estimator<2.6.0,>=2.5.0rc0 in /usr/local/lib/python3.8/dist-packages (from tensorflow<2.6,>=2.5.0->tensorflow-text==2.5.0) (2.5.0)\n",
            "Requirement already satisfied: numpy~=1.19.2 in /usr/local/lib/python3.8/dist-packages (from tensorflow<2.6,>=2.5.0->tensorflow-text==2.5.0) (1.19.5)\n",
            "Requirement already satisfied: google-pasta~=0.2 in /usr/local/lib/python3.8/dist-packages (from tensorflow<2.6,>=2.5.0->tensorflow-text==2.5.0) (0.2.0)\n",
            "Requirement already satisfied: wrapt~=1.12.1 in /usr/local/lib/python3.8/dist-packages (from tensorflow<2.6,>=2.5.0->tensorflow-text==2.5.0) (1.12.1)\n",
            "Requirement already satisfied: h5py~=3.1.0 in /usr/local/lib/python3.8/dist-packages (from tensorflow<2.6,>=2.5.0->tensorflow-text==2.5.0) (3.1.0)\n",
            "Requirement already satisfied: astunparse~=1.6.3 in /usr/local/lib/python3.8/dist-packages (from tensorflow<2.6,>=2.5.0->tensorflow-text==2.5.0) (1.6.3)\n",
            "Requirement already satisfied: protobuf>=3.9.2 in /usr/local/lib/python3.8/dist-packages (from tensorflow<2.6,>=2.5.0->tensorflow-text==2.5.0) (3.19.6)\n",
            "Requirement already satisfied: flatbuffers~=1.12.0 in /usr/local/lib/python3.8/dist-packages (from tensorflow<2.6,>=2.5.0->tensorflow-text==2.5.0) (1.12)\n",
            "Requirement already satisfied: tensorboard~=2.5 in /usr/local/lib/python3.8/dist-packages (from tensorflow<2.6,>=2.5.0->tensorflow-text==2.5.0) (2.9.1)\n",
            "Requirement already satisfied: opt-einsum~=3.3.0 in /usr/local/lib/python3.8/dist-packages (from tensorflow<2.6,>=2.5.0->tensorflow-text==2.5.0) (3.3.0)\n",
            "Requirement already satisfied: wheel~=0.35 in /usr/local/lib/python3.8/dist-packages (from tensorflow<2.6,>=2.5.0->tensorflow-text==2.5.0) (0.38.4)\n",
            "Requirement already satisfied: requests<3,>=2.21.0 in /usr/local/lib/python3.8/dist-packages (from tensorboard~=2.5->tensorflow<2.6,>=2.5.0->tensorflow-text==2.5.0) (2.23.0)\n",
            "Requirement already satisfied: tensorboard-data-server<0.7.0,>=0.6.0 in /usr/local/lib/python3.8/dist-packages (from tensorboard~=2.5->tensorflow<2.6,>=2.5.0->tensorflow-text==2.5.0) (0.6.1)\n",
            "Requirement already satisfied: google-auth<3,>=1.6.3 in /usr/local/lib/python3.8/dist-packages (from tensorboard~=2.5->tensorflow<2.6,>=2.5.0->tensorflow-text==2.5.0) (2.15.0)\n",
            "Requirement already satisfied: werkzeug>=1.0.1 in /usr/local/lib/python3.8/dist-packages (from tensorboard~=2.5->tensorflow<2.6,>=2.5.0->tensorflow-text==2.5.0) (1.0.1)\n",
            "Requirement already satisfied: markdown>=2.6.8 in /usr/local/lib/python3.8/dist-packages (from tensorboard~=2.5->tensorflow<2.6,>=2.5.0->tensorflow-text==2.5.0) (3.4.1)\n",
            "Requirement already satisfied: google-auth-oauthlib<0.5,>=0.4.1 in /usr/local/lib/python3.8/dist-packages (from tensorboard~=2.5->tensorflow<2.6,>=2.5.0->tensorflow-text==2.5.0) (0.4.6)\n",
            "Requirement already satisfied: tensorboard-plugin-wit>=1.6.0 in /usr/local/lib/python3.8/dist-packages (from tensorboard~=2.5->tensorflow<2.6,>=2.5.0->tensorflow-text==2.5.0) (1.8.1)\n",
            "Requirement already satisfied: setuptools>=41.0.0 in /usr/local/lib/python3.8/dist-packages (from tensorboard~=2.5->tensorflow<2.6,>=2.5.0->tensorflow-text==2.5.0) (57.4.0)\n",
            "Requirement already satisfied: cachetools<6.0,>=2.0.0 in /usr/local/lib/python3.8/dist-packages (from google-auth<3,>=1.6.3->tensorboard~=2.5->tensorflow<2.6,>=2.5.0->tensorflow-text==2.5.0) (5.2.0)\n",
            "Requirement already satisfied: pyasn1-modules>=0.2.1 in /usr/local/lib/python3.8/dist-packages (from google-auth<3,>=1.6.3->tensorboard~=2.5->tensorflow<2.6,>=2.5.0->tensorflow-text==2.5.0) (0.2.8)\n",
            "Requirement already satisfied: rsa<5,>=3.1.4 in /usr/local/lib/python3.8/dist-packages (from google-auth<3,>=1.6.3->tensorboard~=2.5->tensorflow<2.6,>=2.5.0->tensorflow-text==2.5.0) (4.9)\n",
            "Requirement already satisfied: requests-oauthlib>=0.7.0 in /usr/local/lib/python3.8/dist-packages (from google-auth-oauthlib<0.5,>=0.4.1->tensorboard~=2.5->tensorflow<2.6,>=2.5.0->tensorflow-text==2.5.0) (1.3.1)\n",
            "Requirement already satisfied: importlib-metadata>=4.4 in /usr/local/lib/python3.8/dist-packages (from markdown>=2.6.8->tensorboard~=2.5->tensorflow<2.6,>=2.5.0->tensorflow-text==2.5.0) (4.13.0)\n",
            "Requirement already satisfied: zipp>=0.5 in /usr/local/lib/python3.8/dist-packages (from importlib-metadata>=4.4->markdown>=2.6.8->tensorboard~=2.5->tensorflow<2.6,>=2.5.0->tensorflow-text==2.5.0) (3.11.0)\n",
            "Requirement already satisfied: pyasn1<0.5.0,>=0.4.6 in /usr/local/lib/python3.8/dist-packages (from pyasn1-modules>=0.2.1->google-auth<3,>=1.6.3->tensorboard~=2.5->tensorflow<2.6,>=2.5.0->tensorflow-text==2.5.0) (0.4.8)\n",
            "Requirement already satisfied: urllib3!=1.25.0,!=1.25.1,<1.26,>=1.21.1 in /usr/local/lib/python3.8/dist-packages (from requests<3,>=2.21.0->tensorboard~=2.5->tensorflow<2.6,>=2.5.0->tensorflow-text==2.5.0) (1.24.3)\n",
            "Requirement already satisfied: certifi>=2017.4.17 in /usr/local/lib/python3.8/dist-packages (from requests<3,>=2.21.0->tensorboard~=2.5->tensorflow<2.6,>=2.5.0->tensorflow-text==2.5.0) (2022.9.24)\n",
            "Requirement already satisfied: chardet<4,>=3.0.2 in /usr/local/lib/python3.8/dist-packages (from requests<3,>=2.21.0->tensorboard~=2.5->tensorflow<2.6,>=2.5.0->tensorflow-text==2.5.0) (3.0.4)\n",
            "Requirement already satisfied: idna<3,>=2.5 in /usr/local/lib/python3.8/dist-packages (from requests<3,>=2.21.0->tensorboard~=2.5->tensorflow<2.6,>=2.5.0->tensorflow-text==2.5.0) (2.10)\n",
            "Requirement already satisfied: oauthlib>=3.0.0 in /usr/local/lib/python3.8/dist-packages (from requests-oauthlib>=0.7.0->google-auth-oauthlib<0.5,>=0.4.1->tensorboard~=2.5->tensorflow<2.6,>=2.5.0->tensorflow-text==2.5.0) (3.2.2)\n",
            "Installing collected packages: tensorflow-text\n",
            "Successfully installed tensorflow-text-2.5.0\n",
            "Looking in indexes: https://pypi.org/simple, https://us-python.pkg.dev/colab-wheels/public/simple/\n",
            "Collecting pyrouge==0.1.3\n",
            "  Downloading pyrouge-0.1.3.tar.gz (60 kB)\n",
            "\u001b[K     |████████████████████████████████| 60 kB 3.4 MB/s \n",
            "\u001b[?25hBuilding wheels for collected packages: pyrouge\n",
            "  Building wheel for pyrouge (setup.py) ... \u001b[?25l\u001b[?25hdone\n",
            "  Created wheel for pyrouge: filename=pyrouge-0.1.3-py3-none-any.whl size=191620 sha256=c2a05165b1b8a05865447ad6529349b4fc8df75c1855ace56fa46b69147d7715\n",
            "  Stored in directory: /root/.cache/pip/wheels/00/85/fd/ccd28e53c9f6a691e6ea96050a0cad95f9a4a6361269d765ca\n",
            "Successfully built pyrouge\n",
            "Installing collected packages: pyrouge\n",
            "Successfully installed pyrouge-0.1.3\n",
            "Looking in indexes: https://pypi.org/simple, https://us-python.pkg.dev/colab-wheels/public/simple/\n",
            "Collecting rouge==1.0.0\n",
            "  Downloading rouge-1.0.0-py3-none-any.whl (14 kB)\n",
            "Requirement already satisfied: six in /usr/local/lib/python3.8/dist-packages (from rouge==1.0.0) (1.15.0)\n",
            "Installing collected packages: rouge\n",
            "Successfully installed rouge-1.0.0\n",
            "Looking in indexes: https://pypi.org/simple, https://us-python.pkg.dev/colab-wheels/public/simple/\n",
            "Collecting transformers==2.5.1\n",
            "  Downloading transformers-2.5.1-py3-none-any.whl (499 kB)\n",
            "\u001b[K     |████████████████████████████████| 499 kB 4.3 MB/s \n",
            "\u001b[?25hRequirement already satisfied: filelock in /usr/local/lib/python3.8/dist-packages (from transformers==2.5.1) (3.8.0)\n",
            "Requirement already satisfied: numpy in /usr/local/lib/python3.8/dist-packages (from transformers==2.5.1) (1.19.5)\n",
            "Requirement already satisfied: requests in /usr/local/lib/python3.8/dist-packages (from transformers==2.5.1) (2.23.0)\n",
            "Collecting boto3\n",
            "  Downloading boto3-1.26.26-py3-none-any.whl (132 kB)\n",
            "\u001b[K     |████████████████████████████████| 132 kB 86.1 MB/s \n",
            "\u001b[?25hRequirement already satisfied: regex!=2019.12.17 in /usr/local/lib/python3.8/dist-packages (from transformers==2.5.1) (2022.6.2)\n",
            "Collecting sacremoses\n",
            "  Downloading sacremoses-0.0.53.tar.gz (880 kB)\n",
            "\u001b[K     |████████████████████████████████| 880 kB 93.2 MB/s \n",
            "\u001b[?25hCollecting tokenizers==0.5.2\n",
            "  Downloading tokenizers-0.5.2-cp38-cp38-manylinux1_x86_64.whl (7.4 MB)\n",
            "\u001b[K     |████████████████████████████████| 7.4 MB 91.2 MB/s \n",
            "\u001b[?25hCollecting sentencepiece\n",
            "  Downloading sentencepiece-0.1.97-cp38-cp38-manylinux_2_17_x86_64.manylinux2014_x86_64.whl (1.3 MB)\n",
            "\u001b[K     |████████████████████████████████| 1.3 MB 81.5 MB/s \n",
            "\u001b[?25hRequirement already satisfied: tqdm>=4.27 in /usr/local/lib/python3.8/dist-packages (from transformers==2.5.1) (4.64.1)\n",
            "Collecting s3transfer<0.7.0,>=0.6.0\n",
            "  Downloading s3transfer-0.6.0-py3-none-any.whl (79 kB)\n",
            "\u001b[K     |████████████████████████████████| 79 kB 10.4 MB/s \n",
            "\u001b[?25hCollecting jmespath<2.0.0,>=0.7.1\n",
            "  Downloading jmespath-1.0.1-py3-none-any.whl (20 kB)\n",
            "Collecting botocore<1.30.0,>=1.29.26\n",
            "  Downloading botocore-1.29.26-py3-none-any.whl (10.2 MB)\n",
            "\u001b[K     |████████████████████████████████| 10.2 MB 77.0 MB/s \n",
            "\u001b[?25hCollecting urllib3<1.27,>=1.25.4\n",
            "  Downloading urllib3-1.26.13-py2.py3-none-any.whl (140 kB)\n",
            "\u001b[K     |████████████████████████████████| 140 kB 95.0 MB/s \n",
            "\u001b[?25hRequirement already satisfied: python-dateutil<3.0.0,>=2.1 in /usr/local/lib/python3.8/dist-packages (from botocore<1.30.0,>=1.29.26->boto3->transformers==2.5.1) (2.8.2)\n",
            "Requirement already satisfied: six>=1.5 in /usr/local/lib/python3.8/dist-packages (from python-dateutil<3.0.0,>=2.1->botocore<1.30.0,>=1.29.26->boto3->transformers==2.5.1) (1.15.0)\n",
            "Requirement already satisfied: chardet<4,>=3.0.2 in /usr/local/lib/python3.8/dist-packages (from requests->transformers==2.5.1) (3.0.4)\n",
            "Requirement already satisfied: certifi>=2017.4.17 in /usr/local/lib/python3.8/dist-packages (from requests->transformers==2.5.1) (2022.9.24)\n",
            "Requirement already satisfied: idna<3,>=2.5 in /usr/local/lib/python3.8/dist-packages (from requests->transformers==2.5.1) (2.10)\n",
            "  Downloading urllib3-1.25.11-py2.py3-none-any.whl (127 kB)\n",
            "\u001b[K     |████████████████████████████████| 127 kB 96.8 MB/s \n",
            "\u001b[?25hRequirement already satisfied: click in /usr/local/lib/python3.8/dist-packages (from sacremoses->transformers==2.5.1) (7.1.2)\n",
            "Requirement already satisfied: joblib in /usr/local/lib/python3.8/dist-packages (from sacremoses->transformers==2.5.1) (1.2.0)\n",
            "Building wheels for collected packages: sacremoses\n",
            "  Building wheel for sacremoses (setup.py) ... \u001b[?25l\u001b[?25hdone\n",
            "  Created wheel for sacremoses: filename=sacremoses-0.0.53-py3-none-any.whl size=895260 sha256=ab5a8b8b0185acf5cce6cd7d9fc0fccafbff759780d86708dc867714e5faae44\n",
            "  Stored in directory: /root/.cache/pip/wheels/82/ab/9b/c15899bf659ba74f623ac776e861cf2eb8608c1825ddec66a4\n",
            "Successfully built sacremoses\n",
            "Installing collected packages: urllib3, jmespath, botocore, s3transfer, tokenizers, sentencepiece, sacremoses, boto3, transformers\n",
            "  Attempting uninstall: urllib3\n",
            "    Found existing installation: urllib3 1.24.3\n",
            "    Uninstalling urllib3-1.24.3:\n",
            "      Successfully uninstalled urllib3-1.24.3\n",
            "\u001b[31mERROR: pip's dependency resolver does not currently take into account all the packages that are installed. This behaviour is the source of the following dependency conflicts.\n",
            "google-cloud-bigquery 3.3.6 requires grpcio<2.0dev,>=1.47.0, but you have grpcio 1.34.1 which is incompatible.\u001b[0m\n",
            "Successfully installed boto3-1.26.26 botocore-1.29.26 jmespath-1.0.1 s3transfer-0.6.0 sacremoses-0.0.53 sentencepiece-0.1.97 tokenizers-0.5.2 transformers-2.5.1 urllib3-1.25.11\n",
            "Looking in indexes: https://pypi.org/simple, https://us-python.pkg.dev/colab-wheels/public/simple/\n",
            "Collecting keras_nlp\n",
            "  Downloading keras_nlp-0.3.1-py3-none-any.whl (151 kB)\n",
            "\u001b[K     |████████████████████████████████| 151 kB 4.9 MB/s \n",
            "\u001b[?25hRequirement already satisfied: tensorflow-text in /usr/local/lib/python3.8/dist-packages (from keras_nlp) (2.5.0)\n",
            "Requirement already satisfied: packaging in /usr/local/lib/python3.8/dist-packages (from keras_nlp) (21.3)\n",
            "Requirement already satisfied: tensorflow in /usr/local/lib/python3.8/dist-packages (from keras_nlp) (2.5.0)\n",
            "Requirement already satisfied: absl-py in /usr/local/lib/python3.8/dist-packages (from keras_nlp) (0.15.0)\n",
            "Requirement already satisfied: numpy in /usr/local/lib/python3.8/dist-packages (from keras_nlp) (1.19.5)\n",
            "Requirement already satisfied: six in /usr/local/lib/python3.8/dist-packages (from absl-py->keras_nlp) (1.15.0)\n",
            "Requirement already satisfied: pyparsing!=3.0.5,>=2.0.2 in /usr/local/lib/python3.8/dist-packages (from packaging->keras_nlp) (3.0.9)\n",
            "Requirement already satisfied: tensorboard~=2.5 in /usr/local/lib/python3.8/dist-packages (from tensorflow->keras_nlp) (2.9.1)\n",
            "Requirement already satisfied: flatbuffers~=1.12.0 in /usr/local/lib/python3.8/dist-packages (from tensorflow->keras_nlp) (1.12)\n",
            "Requirement already satisfied: google-pasta~=0.2 in /usr/local/lib/python3.8/dist-packages (from tensorflow->keras_nlp) (0.2.0)\n",
            "Requirement already satisfied: opt-einsum~=3.3.0 in /usr/local/lib/python3.8/dist-packages (from tensorflow->keras_nlp) (3.3.0)\n",
            "Requirement already satisfied: gast==0.4.0 in /usr/local/lib/python3.8/dist-packages (from tensorflow->keras_nlp) (0.4.0)\n",
            "Requirement already satisfied: grpcio~=1.34.0 in /usr/local/lib/python3.8/dist-packages (from tensorflow->keras_nlp) (1.34.1)\n",
            "Requirement already satisfied: keras-preprocessing~=1.1.2 in /usr/local/lib/python3.8/dist-packages (from tensorflow->keras_nlp) (1.1.2)\n",
            "Requirement already satisfied: tensorflow-estimator<2.6.0,>=2.5.0rc0 in /usr/local/lib/python3.8/dist-packages (from tensorflow->keras_nlp) (2.5.0)\n",
            "Requirement already satisfied: termcolor~=1.1.0 in /usr/local/lib/python3.8/dist-packages (from tensorflow->keras_nlp) (1.1.0)\n",
            "Requirement already satisfied: typing-extensions~=3.7.4 in /usr/local/lib/python3.8/dist-packages (from tensorflow->keras_nlp) (3.7.4.3)\n",
            "Requirement already satisfied: h5py~=3.1.0 in /usr/local/lib/python3.8/dist-packages (from tensorflow->keras_nlp) (3.1.0)\n",
            "Requirement already satisfied: keras-nightly~=2.5.0.dev in /usr/local/lib/python3.8/dist-packages (from tensorflow->keras_nlp) (2.5.0.dev2021032900)\n",
            "Requirement already satisfied: protobuf>=3.9.2 in /usr/local/lib/python3.8/dist-packages (from tensorflow->keras_nlp) (3.19.6)\n",
            "Requirement already satisfied: wheel~=0.35 in /usr/local/lib/python3.8/dist-packages (from tensorflow->keras_nlp) (0.38.4)\n",
            "Requirement already satisfied: wrapt~=1.12.1 in /usr/local/lib/python3.8/dist-packages (from tensorflow->keras_nlp) (1.12.1)\n",
            "Requirement already satisfied: astunparse~=1.6.3 in /usr/local/lib/python3.8/dist-packages (from tensorflow->keras_nlp) (1.6.3)\n",
            "Requirement already satisfied: requests<3,>=2.21.0 in /usr/local/lib/python3.8/dist-packages (from tensorboard~=2.5->tensorflow->keras_nlp) (2.23.0)\n",
            "Requirement already satisfied: google-auth-oauthlib<0.5,>=0.4.1 in /usr/local/lib/python3.8/dist-packages (from tensorboard~=2.5->tensorflow->keras_nlp) (0.4.6)\n",
            "Requirement already satisfied: tensorboard-data-server<0.7.0,>=0.6.0 in /usr/local/lib/python3.8/dist-packages (from tensorboard~=2.5->tensorflow->keras_nlp) (0.6.1)\n",
            "Requirement already satisfied: tensorboard-plugin-wit>=1.6.0 in /usr/local/lib/python3.8/dist-packages (from tensorboard~=2.5->tensorflow->keras_nlp) (1.8.1)\n",
            "Requirement already satisfied: google-auth<3,>=1.6.3 in /usr/local/lib/python3.8/dist-packages (from tensorboard~=2.5->tensorflow->keras_nlp) (2.15.0)\n",
            "Requirement already satisfied: werkzeug>=1.0.1 in /usr/local/lib/python3.8/dist-packages (from tensorboard~=2.5->tensorflow->keras_nlp) (1.0.1)\n",
            "Requirement already satisfied: setuptools>=41.0.0 in /usr/local/lib/python3.8/dist-packages (from tensorboard~=2.5->tensorflow->keras_nlp) (57.4.0)\n",
            "Requirement already satisfied: markdown>=2.6.8 in /usr/local/lib/python3.8/dist-packages (from tensorboard~=2.5->tensorflow->keras_nlp) (3.4.1)\n",
            "Requirement already satisfied: pyasn1-modules>=0.2.1 in /usr/local/lib/python3.8/dist-packages (from google-auth<3,>=1.6.3->tensorboard~=2.5->tensorflow->keras_nlp) (0.2.8)\n",
            "Requirement already satisfied: rsa<5,>=3.1.4 in /usr/local/lib/python3.8/dist-packages (from google-auth<3,>=1.6.3->tensorboard~=2.5->tensorflow->keras_nlp) (4.9)\n",
            "Requirement already satisfied: cachetools<6.0,>=2.0.0 in /usr/local/lib/python3.8/dist-packages (from google-auth<3,>=1.6.3->tensorboard~=2.5->tensorflow->keras_nlp) (5.2.0)\n",
            "Requirement already satisfied: requests-oauthlib>=0.7.0 in /usr/local/lib/python3.8/dist-packages (from google-auth-oauthlib<0.5,>=0.4.1->tensorboard~=2.5->tensorflow->keras_nlp) (1.3.1)\n",
            "Requirement already satisfied: importlib-metadata>=4.4 in /usr/local/lib/python3.8/dist-packages (from markdown>=2.6.8->tensorboard~=2.5->tensorflow->keras_nlp) (4.13.0)\n",
            "Requirement already satisfied: zipp>=0.5 in /usr/local/lib/python3.8/dist-packages (from importlib-metadata>=4.4->markdown>=2.6.8->tensorboard~=2.5->tensorflow->keras_nlp) (3.11.0)\n",
            "Requirement already satisfied: pyasn1<0.5.0,>=0.4.6 in /usr/local/lib/python3.8/dist-packages (from pyasn1-modules>=0.2.1->google-auth<3,>=1.6.3->tensorboard~=2.5->tensorflow->keras_nlp) (0.4.8)\n",
            "Requirement already satisfied: chardet<4,>=3.0.2 in /usr/local/lib/python3.8/dist-packages (from requests<3,>=2.21.0->tensorboard~=2.5->tensorflow->keras_nlp) (3.0.4)\n",
            "Requirement already satisfied: idna<3,>=2.5 in /usr/local/lib/python3.8/dist-packages (from requests<3,>=2.21.0->tensorboard~=2.5->tensorflow->keras_nlp) (2.10)\n",
            "Requirement already satisfied: urllib3!=1.25.0,!=1.25.1,<1.26,>=1.21.1 in /usr/local/lib/python3.8/dist-packages (from requests<3,>=2.21.0->tensorboard~=2.5->tensorflow->keras_nlp) (1.25.11)\n",
            "Requirement already satisfied: certifi>=2017.4.17 in /usr/local/lib/python3.8/dist-packages (from requests<3,>=2.21.0->tensorboard~=2.5->tensorflow->keras_nlp) (2022.9.24)\n",
            "Requirement already satisfied: oauthlib>=3.0.0 in /usr/local/lib/python3.8/dist-packages (from requests-oauthlib>=0.7.0->google-auth-oauthlib<0.5,>=0.4.1->tensorboard~=2.5->tensorflow->keras_nlp) (3.2.2)\n",
            "Requirement already satisfied: tensorflow-hub>=0.8.0 in /usr/local/lib/python3.8/dist-packages (from tensorflow-text->keras_nlp) (0.12.0)\n",
            "Installing collected packages: keras-nlp\n",
            "Successfully installed keras-nlp-0.3.1\n",
            "Looking in indexes: https://pypi.org/simple, https://us-python.pkg.dev/colab-wheels/public/simple/\n",
            "Collecting rouge_score\n",
            "  Downloading rouge_score-0.1.2.tar.gz (17 kB)\n",
            "Requirement already satisfied: absl-py in /usr/local/lib/python3.8/dist-packages (from rouge_score) (0.15.0)\n",
            "Requirement already satisfied: nltk in /usr/local/lib/python3.8/dist-packages (from rouge_score) (3.7)\n",
            "Requirement already satisfied: numpy in /usr/local/lib/python3.8/dist-packages (from rouge_score) (1.19.5)\n",
            "Requirement already satisfied: six>=1.14.0 in /usr/local/lib/python3.8/dist-packages (from rouge_score) (1.15.0)\n",
            "Requirement already satisfied: joblib in /usr/local/lib/python3.8/dist-packages (from nltk->rouge_score) (1.2.0)\n",
            "Requirement already satisfied: click in /usr/local/lib/python3.8/dist-packages (from nltk->rouge_score) (7.1.2)\n",
            "Requirement already satisfied: regex>=2021.8.3 in /usr/local/lib/python3.8/dist-packages (from nltk->rouge_score) (2022.6.2)\n",
            "Requirement already satisfied: tqdm in /usr/local/lib/python3.8/dist-packages (from nltk->rouge_score) (4.64.1)\n",
            "Building wheels for collected packages: rouge-score\n",
            "  Building wheel for rouge-score (setup.py) ... \u001b[?25l\u001b[?25hdone\n",
            "  Created wheel for rouge-score: filename=rouge_score-0.1.2-py3-none-any.whl size=24955 sha256=e2906a06452c6d2aacdfb76925747ba298d39644fbdd81934385e4bf80b2868e\n",
            "  Stored in directory: /root/.cache/pip/wheels/24/55/6f/ebfc4cb176d1c9665da4e306e1705496206d08215c1acd9dde\n",
            "Successfully built rouge-score\n",
            "Installing collected packages: rouge-score\n",
            "Successfully installed rouge-score-0.1.2\n"
          ]
        }
      ],
      "source": [
        "!pip install tensorflow==2.5.0\n",
        "!pip install tensorflow-text==2.5.0\n",
        "!pip install pyrouge==0.1.3\n",
        "!pip install rouge==1.0.0\n",
        "!pip install transformers==2.5.1\n",
        "!pip install keras_nlp \n",
        "!pip install rouge_score"
      ]
    },
    {
      "cell_type": "code",
      "source": [
        "# import os\n",
        "# import sys\n",
        "\n",
        "# isColab = \"google.colab\" in sys.modules\n",
        "# # this also works: \n",
        "# # isColab = \"COLAB_GPU\" in os.environ\n",
        "\n",
        "# if isColab:\n",
        "#     os.environ[\"SDL_VIDEODRIVER\"] = \"dummy\"\n",
        "#     from google.colab import drive \n",
        "#     drive.mount(\"/content/drive\", force_remount=True) \n",
        "\n",
        "#     colab_path = ('/content/drive/MyDrive')"
      ],
      "metadata": {
        "id": "agwqStEL1Q59"
      },
      "execution_count": null,
      "outputs": []
    },
    {
      "cell_type": "code",
      "source": [
        "from google.colab import drive\n",
        "drive.mount('/content/drive/')"
      ],
      "metadata": {
        "colab": {
          "base_uri": "https://localhost:8080/"
        },
        "id": "QslAo3NM2GGH",
        "outputId": "bb407ca7-982d-49cd-f48c-ba3104f2d8b8"
      },
      "execution_count": null,
      "outputs": [
        {
          "output_type": "stream",
          "name": "stdout",
          "text": [
            "Mounted at /content/drive/\n"
          ]
        }
      ]
    },
    {
      "cell_type": "code",
      "source": [
        "ls"
      ],
      "metadata": {
        "colab": {
          "base_uri": "https://localhost:8080/"
        },
        "id": "a95mRoni8z4R",
        "outputId": "ec2219fc-d587-4c75-c3ff-2ea276549bef"
      },
      "execution_count": null,
      "outputs": [
        {
          "output_type": "stream",
          "name": "stdout",
          "text": [
            "\u001b[0m\u001b[01;34mdrive\u001b[0m/  \u001b[01;34msample_data\u001b[0m/\n"
          ]
        }
      ]
    },
    {
      "cell_type": "code",
      "source": [
        "cd 'drive/My Drive'"
      ],
      "metadata": {
        "colab": {
          "base_uri": "https://localhost:8080/"
        },
        "id": "FdT725Hw9GPp",
        "outputId": "0e9d9b5e-3b8f-4e97-a69b-9f363e107a1c"
      },
      "execution_count": null,
      "outputs": [
        {
          "output_type": "stream",
          "name": "stdout",
          "text": [
            "/content/drive/My Drive\n"
          ]
        }
      ]
    },
    {
      "cell_type": "code",
      "source": [
        "cd Deep-Learning-Project"
      ],
      "metadata": {
        "colab": {
          "base_uri": "https://localhost:8080/"
        },
        "id": "sUXiu8tR-g5d",
        "outputId": "ee07666b-d812-4f6f-843e-115fb0470ff9"
      },
      "execution_count": null,
      "outputs": [
        {
          "output_type": "stream",
          "name": "stdout",
          "text": [
            "/content/drive/My Drive/Deep-Learning-Project\n"
          ]
        }
      ]
    },
    {
      "cell_type": "markdown",
      "source": [
        "Import the python packages required."
      ],
      "metadata": {
        "id": "9KMIrx4z2tcC"
      }
    },
    {
      "cell_type": "code",
      "source": [
        "import sys\n",
        "import argparse\n",
        "import os\n",
        "import json\n",
        "from time import time\n",
        "from datetime import timedelta\n",
        "from os.path import join, exists\n",
        "import pdb\n",
        "import tensorflow as tf\n",
        "import keras_nlp"
      ],
      "metadata": {
        "id": "N_YVS1mV2hpo"
      },
      "execution_count": null,
      "outputs": []
    },
    {
      "cell_type": "code",
      "source": [
        "tf.print(tf. __version__)"
      ],
      "metadata": {
        "colab": {
          "base_uri": "https://localhost:8080/"
        },
        "id": "hBf5rBrq-mCt",
        "outputId": "995326c7-9ab0-468a-dc96-f50de2a10ec2"
      },
      "execution_count": null,
      "outputs": [
        {
          "output_type": "stream",
          "name": "stdout",
          "text": [
            "2.5.0\n"
          ]
        }
      ]
    },
    {
      "cell_type": "markdown",
      "source": [
        "Import the repos required classes."
      ],
      "metadata": {
        "id": "dbvuqdF62yuZ"
      }
    },
    {
      "cell_type": "code",
      "source": [
        "from utils import read_jsonl, get_data_path, get_result_path, get_all_summaries\n",
        "from dataloader import MatchSumPipe\n",
        "from model import MatchSum\n",
        "from metrics import MarginRankingLoss, ValidMetric, MatchRougeMetric\n",
        "from callback import MyLRSchedule"
      ],
      "metadata": {
        "id": "Zxf_rbaS26BB"
      },
      "execution_count": null,
      "outputs": []
    },
    {
      "cell_type": "markdown",
      "source": [
        "Define the arguments the model will take in."
      ],
      "metadata": {
        "id": "VzwJRfHP29ir"
      }
    },
    {
      "cell_type": "code",
      "source": [
        "params = {\n",
        "          'train_samples': 10000,\n",
        "          'valid_samples': 1000,\n",
        "          'test_samples': 500,\n",
        "          'encoder': 'distilbert',\n",
        "          'candidate_num': 20,\n",
        "          'batch_size': 16,\n",
        "          'accum_count': 2,\n",
        "          'max_lr': 2e-05,\n",
        "          'margin': 0.01,\n",
        "          'warmup_steps': 10000,\n",
        "          'n_epochs': 25,\n",
        "          'valid_steps': 1000,\n",
        "          'model_name': 'cnn_model'\n",
        "}"
      ],
      "metadata": {
        "id": "FIQ74ckX28XJ"
      },
      "execution_count": null,
      "outputs": []
    },
    {
      "cell_type": "markdown",
      "source": [
        "Train the model."
      ],
      "metadata": {
        "id": "pnLe_ICy3b-6"
      }
    },
    {
      "cell_type": "markdown",
      "source": [
        "Load the training and validation sets."
      ],
      "metadata": {
        "id": "wu9XJWn73tz5"
      }
    },
    {
      "cell_type": "code",
      "source": [
        "# def get_data_paths(mode, encoder):\n",
        "\n",
        "#     #def path as dictionary\n",
        "#     paths = {}\n",
        "\n",
        "#     #for supplying data path into data folder\n",
        "\n",
        "#     #for training: put two different keys into dict, one for train\n",
        "#     #and another for validation\n",
        "#     if mode == 'train':\n",
        "#         paths['train'] = 'data/train_newsroom.jsonl'\n",
        "#         paths['val']   = 'data/val_newsroom.jsonl'\n",
        "#     else:\n",
        "#         paths['test']  = 'data/test_newsroom.jsonl'\n",
        "#     return paths\n",
        "  \n",
        "data_paths = get_data_paths('train', 'bert')\n",
        "\n",
        "\n",
        "save_path = './distilbert'\n",
        "for name in data_paths:\n",
        "    assert exists(data_paths[name])\n",
        "if not exists(save_path):\n",
        "    os.makedirs(save_path)\n",
        "\n",
        "train_cand_dataset, train_text_dataset, train_summ_dataset = MatchSumPipe(num_samples=params['train_samples']).process_from_file(data_paths['train'])\n",
        "val_cand_dataset, val_text_dataset, val_summ_dataset = MatchSumPipe(num_samples=params['valid_samples']).process_from_file(data_paths['val'])"
      ],
      "metadata": {
        "colab": {
          "base_uri": "https://localhost:8080/"
        },
        "id": "PFTGuk-n3eUS",
        "outputId": "9b93ab74-beee-454e-f6eb-0df3b64121e0"
      },
      "execution_count": null,
      "outputs": [
        {
          "output_type": "stream",
          "name": "stdout",
          "text": [
            "Start loading datasets !!!\n",
            "Finished in 0:00:02.829842\n",
            "Start loading datasets !!!\n",
            "Finished in 0:00:01.174809\n"
          ]
        }
      ]
    },
    {
      "cell_type": "code",
      "source": [
        "print(train_cand_dataset.shape)\n",
        "print(val_cand_dataset.shape)"
      ],
      "metadata": {
        "colab": {
          "base_uri": "https://localhost:8080/"
        },
        "id": "Okm_E-PX7srd",
        "outputId": "3cf965e1-c1d6-4739-97fb-010f54e5f6db"
      },
      "execution_count": null,
      "outputs": [
        {
          "output_type": "stream",
          "name": "stdout",
          "text": [
            "(680, 20, 100)\n",
            "(278, 20, 100)\n"
          ]
        }
      ]
    },
    {
      "cell_type": "code",
      "source": [
        "train_params = params\n",
        "# devices, train_params = configure_training(args)\n",
        "with open(join(save_path, 'params.json'), 'w') as f:\n",
        "    json.dump(train_params, f, indent=4)\n",
        "# print('Devices is:')\n",
        "# print(devices)"
      ],
      "metadata": {
        "id": "qGVJKdGI4PW9"
      },
      "execution_count": null,
      "outputs": []
    },
    {
      "cell_type": "markdown",
      "source": [
        "Get the candidate and golden summaries for the training and validation set."
      ],
      "metadata": {
        "id": "16AwneC0Lg35"
      }
    },
    {
      "cell_type": "code",
      "source": [
        "train_summaries, train_candidate_summaries = get_all_summaries(data_paths['train'], num_samples=params['train_samples'])\n",
        "val_summaries, val_candidate_summaries = get_all_summaries(data_paths['val'], num_samples=params['valid_samples'])"
      ],
      "metadata": {
        "id": "c9ON_hhh-Gkz"
      },
      "execution_count": null,
      "outputs": []
    },
    {
      "cell_type": "code",
      "source": [
        "print(train_summaries.shape)\n",
        "print(val_summaries.shape)"
      ],
      "metadata": {
        "colab": {
          "base_uri": "https://localhost:8080/"
        },
        "id": "K64yZN1wgK03",
        "outputId": "52620d9d-c058-41ca-bb62-9e2fe7e43847"
      },
      "execution_count": null,
      "outputs": [
        {
          "output_type": "stream",
          "name": "stdout",
          "text": [
            "(680,)\n",
            "(278,)\n"
          ]
        }
      ]
    },
    {
      "cell_type": "markdown",
      "source": [
        "Configure the model."
      ],
      "metadata": {
        "id": "ox44A4bC4WUG"
      }
    },
    {
      "cell_type": "code",
      "source": [
        "model = MatchSum(params['candidate_num'], params['encoder'])\n",
        "optimizer = tf.keras.optimizers.Adam(learning_rate=MyLRSchedule(0.0, max_lr=params['max_lr'], warmup_steps = params['warmup_steps'], update_every = params['accum_count'])) # Learning rate may need to be changed depending on issues\n",
        "\n",
        "criterion = MarginRankingLoss(params['margin'])\n",
        "\n",
        "model.compile(\n",
        "    optimizer = optimizer,\n",
        "    loss = criterion,\n",
        "    metrics = [keras_nlp.metrics.RougeN(order=1, dtype=tf.float32, name='rouge-1'), keras_nlp.metrics.RougeN(order=2, dtype=tf.float32, name='rouge-2'), keras_nlp.metrics.RougeL(dtype=tf.float32, name='rouge-l')]\n",
        ")"
      ],
      "metadata": {
        "id": "zi1kwy_94VWX",
        "colab": {
          "base_uri": "https://localhost:8080/",
          "height": 103,
          "referenced_widgets": [
            "83d1e5cf882b424daa62f16416ceec76",
            "79e3c3b9c02d4c438421dbab22cd4001",
            "070ef808b2b746bb999b0cad46fbc322",
            "72f839d97f5f469bba3d545aace23d49",
            "08fdcf57e54049dab7f8f8ec9a542970",
            "b05d947a0720452c8d172547a94d6f19",
            "62427f176fd94e96891b1b6687f5421b",
            "bb4795c8dd2b455eaa0b068b43559e3e",
            "733fdfb65d094dc19a5736080d4466c6",
            "7a242a55769445819d590adc28a5158a",
            "f88b0bcfdf394efd87fa6b04e6618891"
          ]
        },
        "outputId": "46972b48-7747-4475-da27-bff5bbdd064d"
      },
      "execution_count": null,
      "outputs": [
        {
          "output_type": "display_data",
          "data": {
            "text/plain": [
              "Downloading:   0%|          | 0.00/442 [00:00<?, ?B/s]"
            ],
            "application/vnd.jupyter.widget-view+json": {
              "version_major": 2,
              "version_minor": 0,
              "model_id": "83d1e5cf882b424daa62f16416ceec76"
            }
          },
          "metadata": {}
        },
        {
          "output_type": "stream",
          "name": "stderr",
          "text": [
            "INFO:absl:Using default tokenizer.\n",
            "INFO:absl:Using default tokenizer.\n",
            "INFO:absl:Using default tokenizer.\n"
          ]
        }
      ]
    },
    {
      "cell_type": "markdown",
      "source": [
        "Train the model."
      ],
      "metadata": {
        "id": "XNlKpva35Cy0"
      }
    },
    {
      "cell_type": "code",
      "source": [
        "print('Start training with the following hyper-parameters:')\n",
        "print(train_params)\n",
        "model.fit(\n",
        "    x=[train_text_dataset, train_cand_dataset, train_summ_dataset], # not sure what data structure this is\n",
        "    y=[train_candidate_summaries, train_summaries],\n",
        "    batch_size=params['batch_size'],\n",
        "    epochs=params['n_epochs'],\n",
        "    verbose=1, # Can be changed\n",
        "    # callbacks=[MyCallback()],\n",
        "    # validation_split=0.0,\n",
        "    validation_data=([val_text_dataset, val_cand_dataset, val_summ_dataset], [val_candidate_summaries, val_summaries]),\n",
        "    shuffle=False, # This could be something that is important\n",
        "    # class_weight=None,\n",
        "    # sample_weight=None,\n",
        "    # initial_epoch=0,\n",
        "    # steps_per_epoch=None,\n",
        "    # validation_steps=1,\n",
        "    # validation_batch_size=valid_cand_dataset.shape[0],\n",
        "    # validation_freq=1,\n",
        "    # max_queue_size=10,\n",
        "    # workers=1,\n",
        "    # use_multiprocessing=False\n",
        ")"
      ],
      "metadata": {
        "colab": {
          "base_uri": "https://localhost:8080/"
        },
        "id": "JB7fJB3z5CRK",
        "outputId": "bdb27363-3cc3-490f-8e48-93d301d027b5"
      },
      "execution_count": null,
      "outputs": [
        {
          "output_type": "stream",
          "name": "stdout",
          "text": [
            "Start training with the following hyper-parameters:\n",
            "{'train_samples': 10000, 'valid_samples': 1000, 'test_samples': 50, 'encoder': 'distilbert', 'candidate_num': 20, 'batch_size': 16, 'accum_count': 2, 'max_lr': 2e-05, 'margin': 0.01, 'warmup_steps': 10000, 'n_epochs': 25, 'valid_steps': 1000, 'model_name': 'cnn_model'}\n",
            "Epoch 1/25\n"
          ]
        },
        {
          "output_type": "stream",
          "name": "stderr",
          "text": [
            "WARNING:tensorflow:From /usr/local/lib/python3.8/dist-packages/tensorflow/python/ops/array_ops.py:5043: calling gather (from tensorflow.python.ops.array_ops) with validate_indices is deprecated and will be removed in a future version.\n",
            "Instructions for updating:\n",
            "The `validate_indices` argument has no effect. Indices are always validated on CPU and never validated on GPU.\n"
          ]
        },
        {
          "output_type": "stream",
          "name": "stdout",
          "text": [
            "43/43 [==============================] - 54s 656ms/step - loss: 1.9155 - val_loss: 1.9219 - val_averaged rouge f1_scores: 0.1186\n",
            "Epoch 2/25\n",
            "43/43 [==============================] - 25s 595ms/step - loss: 1.9159 - val_loss: 1.9142 - val_averaged rouge f1_scores: 0.1278\n",
            "Epoch 3/25\n",
            "43/43 [==============================] - 25s 595ms/step - loss: 1.9186 - val_loss: 1.9140 - val_averaged rouge f1_scores: 0.1224\n",
            "Epoch 4/25\n",
            "43/43 [==============================] - 25s 594ms/step - loss: 1.9111 - val_loss: 1.9122 - val_averaged rouge f1_scores: 0.1277\n",
            "Epoch 5/25\n",
            "43/43 [==============================] - 25s 595ms/step - loss: 1.9147 - val_loss: 1.9179 - val_averaged rouge f1_scores: 0.1308\n",
            "Epoch 6/25\n",
            "43/43 [==============================] - 25s 595ms/step - loss: 1.9189 - val_loss: 1.9222 - val_averaged rouge f1_scores: 0.1227\n",
            "Epoch 7/25\n",
            "43/43 [==============================] - 25s 594ms/step - loss: 1.9191 - val_loss: 1.9149 - val_averaged rouge f1_scores: 0.1299\n",
            "Epoch 8/25\n",
            "43/43 [==============================] - 25s 595ms/step - loss: 1.9260 - val_loss: 1.9163 - val_averaged rouge f1_scores: 0.1252\n",
            "Epoch 9/25\n",
            "43/43 [==============================] - 25s 594ms/step - loss: 1.9276 - val_loss: 1.9141 - val_averaged rouge f1_scores: 0.1274\n",
            "Epoch 10/25\n",
            "43/43 [==============================] - 26s 595ms/step - loss: 1.9217 - val_loss: 1.9067 - val_averaged rouge f1_scores: 0.1209\n",
            "Epoch 11/25\n",
            "43/43 [==============================] - 25s 595ms/step - loss: 1.9167 - val_loss: 1.9186 - val_averaged rouge f1_scores: 0.1331\n",
            "Epoch 12/25\n",
            "43/43 [==============================] - 26s 595ms/step - loss: 1.9197 - val_loss: 1.9121 - val_averaged rouge f1_scores: 0.1257\n",
            "Epoch 13/25\n",
            "43/43 [==============================] - 26s 595ms/step - loss: 1.9137 - val_loss: 1.9266 - val_averaged rouge f1_scores: 0.1340\n",
            "Epoch 14/25\n",
            "43/43 [==============================] - 25s 594ms/step - loss: 1.9180 - val_loss: 1.9268 - val_averaged rouge f1_scores: 0.1247\n",
            "Epoch 15/25\n",
            "43/43 [==============================] - 25s 595ms/step - loss: 1.9224 - val_loss: 1.9140 - val_averaged rouge f1_scores: 0.1312\n",
            "Epoch 16/25\n",
            "43/43 [==============================] - 25s 594ms/step - loss: 1.9203 - val_loss: 1.9101 - val_averaged rouge f1_scores: 0.1193\n",
            "Epoch 17/25\n",
            "43/43 [==============================] - 25s 594ms/step - loss: 1.9209 - val_loss: 1.9164 - val_averaged rouge f1_scores: 0.1336\n",
            "Epoch 18/25\n",
            "43/43 [==============================] - 25s 595ms/step - loss: 1.9218 - val_loss: 1.9157 - val_averaged rouge f1_scores: 0.1291\n",
            "Epoch 19/25\n",
            "43/43 [==============================] - 25s 595ms/step - loss: 1.9218 - val_loss: 1.9129 - val_averaged rouge f1_scores: 0.1251\n",
            "Epoch 20/25\n",
            "43/43 [==============================] - 25s 594ms/step - loss: 1.9129 - val_loss: 1.9172 - val_averaged rouge f1_scores: 0.1246\n",
            "Epoch 21/25\n",
            "43/43 [==============================] - 25s 594ms/step - loss: 1.9205 - val_loss: 1.9276 - val_averaged rouge f1_scores: 0.1179\n",
            "Epoch 22/25\n",
            "43/43 [==============================] - 25s 595ms/step - loss: 1.9203 - val_loss: 1.9232 - val_averaged rouge f1_scores: 0.1206\n",
            "Epoch 23/25\n",
            "43/43 [==============================] - 25s 594ms/step - loss: 1.9170 - val_loss: 1.9116 - val_averaged rouge f1_scores: 0.1186\n",
            "Epoch 24/25\n",
            "43/43 [==============================] - 25s 595ms/step - loss: 1.9257 - val_loss: 1.9074 - val_averaged rouge f1_scores: 0.1203\n",
            "Epoch 25/25\n",
            "43/43 [==============================] - 25s 595ms/step - loss: 1.9206 - val_loss: 1.9049 - val_averaged rouge f1_scores: 0.1256\n"
          ]
        },
        {
          "output_type": "execute_result",
          "data": {
            "text/plain": [
              "<tensorflow.python.keras.callbacks.History at 0x7f6e3aa836a0>"
            ]
          },
          "metadata": {},
          "execution_count": 17
        }
      ]
    },
    {
      "cell_type": "markdown",
      "source": [
        "Save trained model."
      ],
      "metadata": {
        "id": "z-w11z2symxN"
      }
    },
    {
      "cell_type": "code",
      "source": [
        "#save the model you just created\n",
        "# model.save('./models/{}'.format(params['model_name']))"
      ],
      "metadata": {
        "id": "HQPgUeT0vY6h"
      },
      "execution_count": null,
      "outputs": []
    },
    {
      "cell_type": "markdown",
      "source": [
        "Evaluate the model."
      ],
      "metadata": {
        "id": "2Laso_9G5JTE"
      }
    },
    {
      "cell_type": "code",
      "source": [
        "from re import I\n",
        "# load dataset\n",
        "# test_data_paths = get_data_path('test', 'bert')\n",
        "\n",
        "test_data_paths = get_data_paths('test', 'bert')\n",
        "\n",
        "test_cand_dataset, test_text_dataset, test_summ_dataset = MatchSumPipe(num_samples=params['test_samples']).process_from_file(test_data_paths['test'])\n",
        "test_summaries, test_candidate_summaries = get_all_summaries(test_data_paths['test'], num_samples=params['test_samples'])\n",
        "\n",
        "# dec_path, ref_path = get_result_path(save_path, \"model_folder\")\n",
        "\n",
        "#reload the model for evaluation\n",
        "# model = tf.keras.models.load_model('./models/{}.h5'.format(params['model_name']))\n",
        "\n",
        "best_candidate_summaries = model.get_best_summaries(test_cand_dataset, test_text_dataset, test_candidate_summaries)\n",
        "\n",
        "rouge_1 = keras_nlp.metrics.RougeN(order=1, dtype=tf.float32, name='rouge-1')\n",
        "rouge_2 = keras_nlp.metrics.RougeN(order=2, dtype=tf.float32, name='rouge-2')\n",
        "rouge_l = keras_nlp.metrics.RougeL(dtype=tf.float32, name='rouge-l')\n",
        "\n",
        "for i, j in zip(best_candidate_summaries, test_summaries):\n",
        "    tf.print(\"best candidate summary:\")\n",
        "    tf.print(i)\n",
        "    tf.print(\"golden summary:\")\n",
        "    tf.print(j)\n",
        "    tf.print(\"rouge_1:\")\n",
        "    tf.print(rouge_1(j, i)['f1_score'])\n",
        "    tf.print(\"rouge_2:\")\n",
        "    tf.print(rouge_2(j, i)['f1_score'])\n",
        "    tf.print(\"rouge_l:\")\n",
        "    tf.print(rouge_l(j, i)['f1_score'])\n",
        "    tf.print(\"combined rouge average:\")\n",
        "    tf.print((rouge_1(j, i)['f1_score'] + rouge_2(j, i)['f1_score'] + rouge_l(j, i)['f1_score']) / 3.0)\n",
        "    tf.print()"
      ],
      "metadata": {
        "id": "deXb6Pzj5IYr",
        "colab": {
          "base_uri": "https://localhost:8080/"
        },
        "outputId": "a121d65f-3997-482d-ff36-1bf7dbd64e1d"
      },
      "execution_count": null,
      "outputs": [
        {
          "output_type": "stream",
          "name": "stdout",
          "text": [
            "Start loading datasets !!!\n",
            "Finished in 0:00:00.433051\n"
          ]
        },
        {
          "output_type": "stream",
          "name": "stderr",
          "text": [
            "INFO:absl:Using default tokenizer.\n",
            "INFO:absl:Using default tokenizer.\n",
            "INFO:absl:Using default tokenizer.\n"
          ]
        },
        {
          "output_type": "stream",
          "name": "stdout",
          "text": [
            "best candidate summary:\n",
            "I've been shot!\" \"The girl was covered with blood,\" he remembered. \"\n",
            "golden summary:\n",
            "Bleeding from a massive chest wound, Tejano star Selena cried, \"Help me! I've been shot!\"and then named her killer with her dying breath. Shaken witnesses yesterday told a spellbound Houston courtroom how the blood-covered, mortally wounded 23-year-old Hispanic singing sensation burst into the lobby of the Corpus Christi Days Inn last March 31. Gasping for breath, Selena told motel workers that Yolanda Saldivar the president of her fan club shot\n",
            "rouge_1:\n",
            "0.183908045\n",
            "rouge_2:\n",
            "0.0705882385\n",
            "rouge_l:\n",
            "0.137931034\n",
            "combined rouge average:\n",
            "0.130809113\n",
            "\n",
            "best candidate summary:\n",
            "She said results will be shared with doctors in the United States, \"so everyone will be on the same page.\" She landed in Christchurch on Monday.\n",
            "golden summary:\n",
            "By HOLLY RAMER, Associated Press CONCORD, N.H. -- A sick American engineer who was successfully evacuated from the South Pole to New Zealand is awaiting the results of medical tests after having what doctors believed was a stroke in August.\n",
            "rouge_1:\n",
            "0.173110411\n",
            "rouge_2:\n",
            "0.0470588244\n",
            "rouge_l:\n",
            "0.122257054\n",
            "combined rouge average:\n",
            "0.105808586\n",
            "\n",
            "best candidate summary:\n",
            "But she said there might be \"some connection\". Police did not interfere.\n",
            "golden summary:\n",
            "Men in battle-fatigues have&nbsp;raided the Moscow headquarters of billionaire&nbsp;investor George Soros.\n",
            "rouge_1:\n",
            "0.134169266\n",
            "rouge_2:\n",
            "0.0282352958\n",
            "rouge_l:\n",
            "0.0915360525\n",
            "combined rouge average:\n",
            "0.0705390647\n",
            "\n",
            "best candidate summary:\n",
            "The biggest one in the middle was tuned to CNBC. It was the holy month of Ramadan.\n",
            "golden summary:\n",
            "Hurricane Ike, Ramadan and the billionaire prince.\n",
            "rouge_1:\n",
            "0.119644716\n",
            "rouge_2:\n",
            "0.0201680679\n",
            "rouge_l:\n",
            "0.077287659\n",
            "combined rouge average:\n",
            "0.0737376288\n",
            "\n",
            "best candidate summary:\n",
            "Dear TW: There are serious numerical anomalies in the debate you are moderating. You may want to check it out.\n",
            "golden summary:\n",
            "WITH a month to go until Mexico’s presidential election, everyone is thinking about politics. A new poll asking which news stories have caught people’s attention suggests that campaign hasn’t grabbed everyone.\n",
            "rouge_1:\n",
            "0.115690745\n",
            "rouge_2:\n",
            "0.0156862754\n",
            "rouge_l:\n",
            "0.0734871\n",
            "combined rouge average:\n",
            "0.0639283732\n",
            "\n",
            "best candidate summary:\n",
            "Who questioned our resolve and our reach. And this progress must continue.\n",
            "golden summary:\n",
            "Secretary of State Hillary Clinton says killing of Osama bin Laden means \"justice has been served,\" says it shows America cannot be waited out\n",
            "rouge_1:\n",
            "0.0980230644\n",
            "rouge_2:\n",
            "0.0128342248\n",
            "rouge_l:\n",
            "0.0634928122\n",
            "combined rouge average:\n",
            "0.0532736443\n",
            "\n",
            "best candidate summary:\n",
            "\"What about barriers to entry?\" \"Not hard,\" he said. \"\n",
            "golden summary:\n",
            "Breathless stories have extolled the benefits of having all these tech-savvy, &quot;new economy&quot; companies move into a stretch of real estate that's been withering legitimate businesses for decades. It certainly seemed like a good opportunity to take a look at some of the businesses that have thrived in this neighborhood. Mid-Market and the Tenderloin are home to a thriving ecosystem of micro industries, and these entrepreneurs are in it for the long haul. Corner for stolen goods&quot;Fenced goods dealers are all at the southwest corner of Market and Seventh,&quot; Deleano Seymour told me as we walked around the neighborhood. The northeast corner of Market is pretty quiet, but farther down the block, between Seventh and Sixth, there's another, larger, group of young gentlemen who are usually there. Just weed, stolen goods, and then the women who sell food stamps and USDA commodities. Dealers commute on BARTSeymour has been mentioned in the pages of this newspaper as the guide for Tenderloin Walking Tours, an excellent tour he leads by appointment. Like many people who once lived on the wrong side of the law, Seymour has embraced the straight life with passion - moving to Nob Hill, wearing suits and hats no matter the occasion, offering reactionary opinions on illegal activity. &quot;Right now I'd say prescription drugs are the top seller on the street,&quot; he said. &quot;Prescription drug sellers are all about volume - they can make two or three thousand dollars a month selling their meds,&quot; he said as we walked through, watching them do just that.\n",
            "rouge_1:\n",
            "0.0851642\n",
            "rouge_2:\n",
            "0.0114191687\n",
            "rouge_l:\n",
            "0.0553908907\n",
            "combined rouge average:\n",
            "0.0484161787\n",
            "\n",
            "best candidate summary:\n",
            "''Hence, for a time,'' Adler said, ''the person may be extremely successful.'' She Stayed With Him\n",
            "\n",
            "Mrs. Nijinsky reported ''periods of violence'' between Nijinsky and herself, but she stayed with him against all advice to get a divorce.\n",
            "golden summary:\n",
            "Vaslav Nijinsky, the great Russian dancer who was driven from the stage by madness in 1917 at the peak of his fame, recorded his thoughts and ravings in the next two years in a diary that he signed ''God Nijinsky.'' Although the diary was published in 1946 while Nijinsky was still alive, and the original handwritten volumes were sold at auction in 1979 for more than $100,000, a long-suppressed preface by the psychoanalyst Alfred Adler has now been printed for the first time, in The Archives of General Psychiatry. The preface is the only published first-hand professional opinion of Nijinsky, whose mental illness led to consultations with all the foremost experts of his day, including Sigmund Freud and Carl Jung. Its publication was prevented by Nijinsky's wife, Romola, who is said to have found its clinical observations distasteful, objecting in particular to Adler's belief that Nijinsky's schizophrenia was rooted in a pathological sense of inferiority. She replaced the preface with one of her own, which glorified her husband.\n",
            "rouge_1:\n",
            "0.0857972577\n",
            "rouge_2:\n",
            "0.0103814611\n",
            "rouge_l:\n",
            "0.0557387881\n",
            "combined rouge average:\n",
            "0.0525842793\n",
            "\n",
            "best candidate summary:\n",
            "Even though the US was openly backing the Salvadoran Army by 1981, as late as November 1983 it was asking for more Israeli âpractical assistanceâ there, according to a declassified secret document obtained recently by Aljazeera. If you cannot catch the fish, you have to drain the sea,â said Guatemalan President Rios Montt in 1982.\n",
            "golden summary:\n",
            "<P>âI learned an infinite amount of things in Israel, and to that country I owe part of my essence, my human and military achievementsâ said Colombian paramilitary leader and indicted drug trafficker Carlos Castao in his ghostwritten autobiography, Mi Confesin.</P>\n",
            "rouge_1:\n",
            "0.0882210508\n",
            "rouge_2:\n",
            "0.00916011259\n",
            "rouge_l:\n",
            "0.0583692417\n",
            "combined rouge average:\n",
            "0.0513234846\n",
            "\n",
            "best candidate summary:\n",
            "But that was more than 30 years ago. That bettered her PSAT score by 100 points.\n",
            "golden summary:\n",
            "With competition fierce and with more students than ever taking the SAT paying for study help has increasingly become a must. But the cost can run into the thousands.\n",
            "rouge_1:\n",
            "0.0892077312\n",
            "rouge_2:\n",
            "0.00819589\n",
            "rouge_l:\n",
            "0.0601590313\n",
            "combined rouge average:\n",
            "0.0535985418\n",
            "\n",
            "best candidate summary:\n",
            "And he keeps routines. It's never going to be the same again.\n",
            "golden summary:\n",
            "Rhoda Buchanan:  For 18 months, photographer Callie Shell has enjoyed intimate access to the man who would be the 44th president of the United States of America\n",
            "rouge_1:\n",
            "0.0942038149\n",
            "rouge_2:\n",
            "0.00992159452\n",
            "rouge_l:\n",
            "0.0658052564\n",
            "combined rouge average:\n",
            "0.059411753\n",
            "\n",
            "best candidate summary:\n",
            "Three English channels will start broadcasting in October 2010 and the venture would have programming rights across India, Nepal, Bhutan, Sri Lanka, Bangladesh, the Maldives and Pakistan, the companies said. The channels will broadcast series such as \"Hawaii Five-0,\" ''The Defenders\" and \"Blue Bloods\" as well as current CBS shows like \"CSI\" and \"Entertainment Tonight\" via cable or satellite.\n",
            "golden summary:\n",
            "The channels will broadcast series such as \"Hawaii Five-0,\" as well as current shows like \"CSI\" and \"Entertainment Tonight\" via cable or satellite.\n",
            "rouge_1:\n",
            "0.117378637\n",
            "rouge_2:\n",
            "0.0336165316\n",
            "rouge_l:\n",
            "0.0914495215\n",
            "combined rouge average:\n",
            "0.100434445\n",
            "\n",
            "best candidate summary:\n",
            "The invention of landscape painting is one of the great moments of European art. Could he somehow have seen Chinese paintings?\n",
            "golden summary:\n",
            "The history books say that western Renaissance artists invented landscape painting. Not if you believe a new V&A exhibition of Chinese art, writes Jonathan Jones\n",
            "rouge_1:\n",
            "0.141058251\n",
            "rouge_2:\n",
            "0.0531927906\n",
            "rouge_l:\n",
            "0.115501337\n",
            "combined rouge average:\n",
            "0.105850495\n",
            "\n",
            "best candidate summary:\n",
            "With some guardedness - I am very enthusiastic. The process is daunting,\" Shaye said. \"\n",
            "golden summary:\n",
            "On a recent morning, New Line Cinema bosses Bob Shaye and Michael Lynne sat in their offices on Seventh Ave. looking over audience research on their mega movie \"The Lord of the Rings,\" which opens Wednesday. \"It has incredible awareness,\" Lynne said, jumping up from his seat. \" This is the moment before something very incredible can happen.\" \"I tend to be conservative,\" Shaye said more hesitantly. \"\n",
            "rouge_1:\n",
            "0.145691633\n",
            "rouge_2:\n",
            "0.0518606752\n",
            "rouge_l:\n",
            "0.118576489\n",
            "combined rouge average:\n",
            "0.104935907\n",
            "\n",
            "best candidate summary:\n",
            "Each has a height of 7 metres and a diameter of 30 metres. It looks as if it has been so forever but it was actually different before.\"\n",
            "golden summary:\n",
            "The conversion of three huge underground oil tanks at Tate Modern may turn out to be the most memorable work of this extraordinary year, writes Rowan Moore\n",
            "rouge_1:\n",
            "0.143389657\n",
            "rouge_2:\n",
            "0.0491797365\n",
            "rouge_l:\n",
            "0.116398565\n",
            "combined rouge average:\n",
            "0.101172499\n",
            "\n",
            "best candidate summary:\n",
            "Some of it works. Blend in more of that spirit, and their latest pairing might rate better.\n",
            "golden summary:\n",
            "Adam Sandler and Drew Barrymore are back together in “Blended,” this time as melancholy single parents whose families bond on an African vacation.\n",
            "rouge_1:\n",
            "0.139710546\n",
            "rouge_2:\n",
            "0.0460068472\n",
            "rouge_l:\n",
            "0.112847917\n",
            "combined rouge average:\n",
            "0.0979742184\n",
            "\n",
            "best candidate summary:\n",
            "He has hit rock bottom a number of times, but he no longer appears absolutely destined to do it again. Or was this half-season only a feint toward well-being, before Weiner leads his characters back into restlessness, the two steps backward to this one step forward?\n",
            "golden summary:\n",
            "At the end of the first half of season seven, all signs pointed to a happy ending, to the tune of “The Best Things in Life Are Free.”\n",
            "rouge_1:\n",
            "0.139855668\n",
            "rouge_2:\n",
            "0.0432185531\n",
            "rouge_l:\n",
            "0.111511044\n",
            "combined rouge average:\n",
            "0.098402977\n",
            "\n",
            "best candidate summary:\n",
            "He replied: \"Yes.\" It's pretty good.\n",
            "golden summary:\n",
            "Guerrilla graffiti artist admits to painting three 1950s-style spooks near listening centre in Cheltenham\n",
            "rouge_1:\n",
            "0.137127072\n",
            "rouge_2:\n",
            "0.040748924\n",
            "rouge_l:\n",
            "0.108898379\n",
            "combined rouge average:\n",
            "0.0929361507\n",
            "\n",
            "best candidate summary:\n",
            "\"She was very friendly and very nice,\" realtor Lori Markell tells PEOPLE. \" She said she just had her baby 11 weeks ago.\"\n",
            "golden summary:\n",
            "The actress spent time at the beach and pool with her elder daughter, Olive\n",
            "rouge_1:\n",
            "0.132717803\n",
            "rouge_2:\n",
            "0.0385462791\n",
            "rouge_l:\n",
            "0.106014989\n",
            "combined rouge average:\n",
            "0.0919434056\n",
            "\n",
            "best candidate summary:\n",
            "What was it doing over the territory of Ukraine?,\" the fighter asks.\n",
            "golden summary:\n",
            "Phone calls allegedly intercepted by pro-Russian rebels fighting in eastern Ukraine appear to confirm that the separatists shot down a commercial aircraft with 295 people onboard, including 27 Australians.\n",
            "rouge_1:\n",
            "0.131202772\n",
            "rouge_2:\n",
            "0.0365695469\n",
            "rouge_l:\n",
            "0.10586933\n",
            "combined rouge average:\n",
            "0.0905208364\n",
            "\n",
            "best candidate summary:\n",
            "We are not a workshop but a mutual audience,\" explains De Filippis. \" And she is doing it; they are all doing it.\n",
            "golden summary:\n",
            "ONLY IN NEW YORK: Some of today's most provocative and authentic Latin Caribbean literature is being created by Dominican, Cuban and Puerto Rican women writers in Flushing, 1,500 miles from the sun of their native islands. They have been doing it for three years in the living room of Prof. Daisy De Filippis' unpretentious home, where the group comes together one Sunday per month. She and Nunzio, her husband, cook for the group.\n",
            "rouge_1:\n",
            "0.131148651\n",
            "rouge_2:\n",
            "0.0358126238\n",
            "rouge_l:\n",
            "0.10554231\n",
            "combined rouge average:\n",
            "0.0911332741\n",
            "\n",
            "best candidate summary:\n",
            "Of course, buying Disney or Sony is not what Jobs meant at all. [Follow Philip Elmer-DeWitt on Twitter @philiped]\n",
            "golden summary:\n",
            "Tim Cook thinks he knows how to put $59.7 billion to good use One of the things that's keeping Apple's market cap from overtaking Exxon Mobil's -- besides Steve Jobs' health problems and the world's unquenchable thirst for petroleum products -- is the fear that the company will do something stupid with the nearly $60…\n",
            "rouge_1:\n",
            "0.130673632\n",
            "rouge_2:\n",
            "0.0351261161\n",
            "rouge_l:\n",
            "0.104223475\n",
            "combined rouge average:\n",
            "0.0889333561\n",
            "\n",
            "best candidate summary:\n",
            "This idea, not original withDr. This article can be viewed in its original form.\n",
            "golden summary:\n",
            "Holmes, Saml J, 95\n",
            "rouge_1:\n",
            "0.126575306\n",
            "rouge_2:\n",
            "0.033564955\n",
            "rouge_l:\n",
            "0.100730918\n",
            "combined rouge average:\n",
            "0.0850666836\n",
            "\n",
            "best candidate summary:\n",
            "In both cases, Vine argues that film and television royalty streams have a low correlation to… well, to just about everything else. Investment sizes have ranged from around $5 million to $45 million.\n",
            "golden summary:\n",
            "Vine is latest in recent string of 'income funds' to hit the private equity market.\n",
            "rouge_1:\n",
            "0.123848699\n",
            "rouge_2:\n",
            "0.0321366601\n",
            "rouge_l:\n",
            "0.0982175469\n",
            "combined rouge average:\n",
            "0.0844157636\n",
            "\n",
            "best candidate summary:\n",
            "A solitary swing stands still among the activities taking place at the Lawn on D, the innovative temporary public park space adjacent to the Boston Convention and Exhibition Center on D Street in South Boston. We stop playing at a certain age.\n",
            "golden summary:\n",
            "A solitary swing stands still among the activities taking place at the Lawn on D. The oval, suspended by steel beams, emits a soft white hue, until curious parkgoers decide to take a seat. Their faces lit up, figuratively and literally, as the oval begins to glow -- first blue then varying shades of purple-pink — as the sitter starts to swing to and fro.\n",
            "rouge_1:\n",
            "0.129045859\n",
            "rouge_2:\n",
            "0.0367119275\n",
            "rouge_l:\n",
            "0.103225484\n",
            "combined rouge average:\n",
            "0.0946966112\n",
            "\n",
            "best candidate summary:\n",
            "You’re one of the last charter Team Obama guys still on the job. What’s keeping you around?\n",
            "golden summary:\n",
            "As Deputy National Security Adviser, he helps guide the president's words and thinking on foreign policy at a precarious time.\n",
            "rouge_1:\n",
            "0.134325609\n",
            "rouge_2:\n",
            "0.0409283526\n",
            "rouge_l:\n",
            "0.108167432\n",
            "combined rouge average:\n",
            "0.0942595601\n",
            "\n",
            "best candidate summary:\n",
            "The order on Thursday cites several other instances. A federal judge in California disagreed.\n",
            "golden summary:\n",
            "BET's recent win in a discrimination lawsuit filed by transgender TV personality B. Scott is the latest instance in which a media company has beat a bias suit by flaunting its right to free speech and expression.\n",
            "rouge_1:\n",
            "0.134263977\n",
            "rouge_2:\n",
            "0.0393838882\n",
            "rouge_l:\n",
            "0.107423812\n",
            "combined rouge average:\n",
            "0.0931426287\n",
            "\n",
            "best candidate summary:\n",
            "Passenger steamships (P&O began plying the eastern Mediterranean in 1835), guidebooks and the first Thomas Cook package tour gave notice of a harder, more permanent intrusion, with western museums filling up with Mediterranean fragments, the great powers using their concern for the Holy Places and religious minorities as a pretext for elbowing into Ottoman affairs, and, already, those mellow voids inspiring thoughts of a Jewish state. For the more thoughtful members of the party, there were considerable advantages to be gained from travelling with the heir to a quarter of the globe, not least permissions to visit the sepulchre of the Patriarchs at Hebron, hitherto inaccessible to Christians, and Jerusalem’s Dome of the Rock, whose dilapidated dignity (it has since been lavishly restored) Bedford was one of the earliest photographers to record. “\n",
            "golden summary:\n",
            "When the Prince of Wales was sent away on a trip to the Middle East to prevent him behaving badly, Francis Bedford went with him – the pictures he took captured famous sites unchanged for thousands of years. By Christopher de Bellaigue\n",
            "rouge_1:\n",
            "0.133973047\n",
            "rouge_2:\n",
            "0.0379517451\n",
            "rouge_l:\n",
            "0.106578425\n",
            "combined rouge average:\n",
            "0.0925371945\n",
            "\n",
            "best candidate summary:\n",
            "Discussions about startups often focus on founders or investors, but most people in the startup game are regular employees. I believe that there are three opportune times to join a startup:\n",
            "\n",
            "As early as you can stomach.\n",
            "golden summary:\n",
            "Discussions about startups often focus on founders or investors, but most people in the startup game are regular employees. So how do you find a startup job? By David Beisel, contributor “I want to work for a startup.” It’s a common statement, but a “startup” can be very different things. The primary dimension on which…\n",
            "rouge_1:\n",
            "0.141110435\n",
            "rouge_2:\n",
            "0.0439461172\n",
            "rouge_l:\n",
            "0.113497742\n",
            "combined rouge average:\n",
            "0.106258281\n",
            "\n",
            "best candidate summary:\n",
            "The representative may ask more open-ended questions. So why the special treatment at Fidelity?\n",
            "golden summary:\n",
            "Fidelity, which provides employer-based retirement accounts for more than 13 million workers, along with other retirement plan providers, have begun tailoring their messages for specific employees — including women, but also Hispanics, members of specific generations or income groups, or those, say, who may be borrowing significant sums from their 401(k) plans. Other providers are testing ways to nudge workers to save more with just one click.\n",
            "rouge_1:\n",
            "0.146664739\n",
            "rouge_2:\n",
            "0.0495340861\n",
            "rouge_l:\n",
            "0.119215138\n",
            "combined rouge average:\n",
            "0.104055025\n",
            "\n",
            "best candidate summary:\n",
            "She is just the most fun person. would be fantastic as well.\"\n",
            "golden summary:\n",
            "The new Late Late Show host also names an Emmy winner and a four-time Oscar nominee he'd like to interview\n",
            "rouge_1:\n",
            "0.144005448\n",
            "rouge_2:\n",
            "0.0479100198\n",
            "rouge_l:\n",
            "0.117060818\n",
            "combined rouge average:\n",
            "0.101963438\n",
            "\n",
            "best candidate summary:\n",
            "The plane begins its descent almost immediately, at 10.29am local time. Do you have any news photos or videos?\n",
            "golden summary:\n",
            "The co-pilot responsible for the Germanwings crash repeatedly suggested the captain take a break and leave the cockpit, before locking him out and slamming the pane into the French Alps.\n",
            "rouge_1:\n",
            "0.140990034\n",
            "rouge_2:\n",
            "0.0463890657\n",
            "rouge_l:\n",
            "0.114900775\n",
            "combined rouge average:\n",
            "0.099594079\n",
            "\n",
            "best candidate summary:\n",
            "Push the boundaries: join a board. It has been an incredible learning experience and has truly inspired me.\n",
            "golden summary:\n",
            "All professionals could benefit from getting involved with work outside of their day job.\n",
            "rouge_1:\n",
            "0.137255192\n",
            "rouge_2:\n",
            "0.0449617095\n",
            "rouge_l:\n",
            "0.111968689\n",
            "combined rouge average:\n",
            "0.0965760723\n",
            "\n",
            "best candidate summary:\n",
            "Absolutely nothing.'' Criticism of Braodcasters\n",
            "\n",
            "The disagreements are accompanied by attacks on evangelical broadcasters.\n",
            "golden summary:\n",
            "A large national gathering of Christian evangelicals, including hundreds of television and radio broadcasters, was urged today to bolster the campaign by evangelical political activists to combat secular humanism, which was described as ''the established religion of America.'' The challenge was delivered by the Rev. D. James Kennedy, the pastor of Coral Ridge Presbyterian Church in Fort Lauderdale, Fla., and a leading figure in the recent drive by conservative church groups to help elect candidates who espoused views that agreed with fundamentalist moral principles. Mr. Kennedy also serves on the board of the Round Table, an umbrella group for religiously conservative activists. He told 2,000 delegates at a joint meeting of National Religious Broadcasters and the National Association of Evangelicals that evangelicals should increase their level of political involvement because ''secular humanists have declared war on Christianity in this country and they are progressing very rapidly.''\n",
            "rouge_1:\n",
            "0.134455889\n",
            "rouge_2:\n",
            "0.0436195694\n",
            "rouge_l:\n",
            "0.109553382\n",
            "combined rouge average:\n",
            "0.0951970592\n",
            "\n",
            "best candidate summary:\n",
            "“Everyone wants low-cost travel,” he adds. “ They’re willing to pay for a better experience.”\n",
            "golden summary:\n",
            "J.D. Power's latest North America Airline Satisfaction study finds customer service is improving -- if you fly a small group of airlines.\n",
            "rouge_1:\n",
            "0.132562086\n",
            "rouge_2:\n",
            "0.0423552319\n",
            "rouge_l:\n",
            "0.108021304\n",
            "combined rouge average:\n",
            "0.0934539512\n",
            "\n",
            "best candidate summary:\n",
            "And even when customers were unable to pay because of website failures, they still got charged late fees.” You could be eligible if you incurred late fees or interest charges between January 1, 2011, and May 1, 2015.\n",
            "golden summary:\n",
            "The CFPB alleges many customers unwittingly signed up for PayPal Credit\n",
            "rouge_1:\n",
            "0.130125105\n",
            "rouge_2:\n",
            "0.0411621295\n",
            "rouge_l:\n",
            "0.106275611\n",
            "combined rouge average:\n",
            "0.0916138664\n",
            "\n",
            "best candidate summary:\n",
            "They are protesting possible environmental damage at Olympic venues and disturbances of local burial grounds. He looked back and, referring to the more than 1,000 co lor slides of Calgary that had been shown, he said, ''I can't ever watch that presentation without crying.''\n",
            "golden summary:\n",
            "BADEN, West Germany, Sept. 29 - A Roy al Canadian Mountie in abright red tunic converses in German, and a C anadian Indian dressed in white deerskin and wearing a headdress of eagle feathers asks, ''Wie gehts?'', which means ''How are you?'' There are beautiful Korean dresses called ''Han Boks'' on display and signs that say ''Sverige,'' which means ''Sweden.'' There are Japanese lanterns, and, from the Italians, a re-creation of an entire range of the Alps, 15 feet high with ski trails down its slopes. The scene is the Alte Bahnhof, the old train station that has been divided into five sections and converted to an exhibition hall where cities from Canada, Italy, Sweden, Japan and South Korea are displaying the pleasures and advantages of holding a Winter or Summer Olympic Games in their locale.\n",
            "rouge_1:\n",
            "0.12877503\n",
            "rouge_2:\n",
            "0.0400344\n",
            "rouge_l:\n",
            "0.104976818\n",
            "combined rouge average:\n",
            "0.090919815\n",
            "\n",
            "best candidate summary:\n",
            "Gratia Lousma, the commander's wife, said, ''We don't want you to get too comfortable up there and decide to stay.'' Jack R. Lousma, Col.\n",
            "golden summary:\n",
            "After hours of concern over predicted weather conditions at the landing site, officials of the space agency decided today not to order the space shuttle Columbia back to earth a day early but to proceed with plans for a landing Monday as scheduled. The seven-day test flight of the re-usable winged spaceship is now set to end at 2:27 P.M. Eastern standard time on a desert landing strip at the White Sands Missile Range in southern New Mexico. By going the full duration, the astronauts, Col. Jack R. Lousma of the Marine Corps and Col. C. Gordon Fullerton of the Air Force, will have circumnavigated the earth 115 times, logging 3.4 million miles since their launching last Monday. Improved Weather Forecast   The decision to adhere to the original flight plan was announced early this afternoon on the basis of new weather reports indicating that the clouds and gusty winds at White Sands should move out of the area by Monday. The forecast is for high-altitude clouds, light breezy winds and only occasional gusts.\n",
            "rouge_1:\n",
            "0.127993405\n",
            "rouge_2:\n",
            "0.0392295383\n",
            "rouge_l:\n",
            "0.104113646\n",
            "combined rouge average:\n",
            "0.0899837241\n",
            "\n",
            "best candidate summary:\n",
            "It was] really hot. It felt like 150 degrees in there.\n",
            "golden summary:\n",
            "Isiah Francis, 10, and Jeremiah Grimes, 11, rescued a 1-month-old and an 8-month-old from a burning house\n",
            "rouge_1:\n",
            "0.125682518\n",
            "rouge_2:\n",
            "0.0384664908\n",
            "rouge_l:\n",
            "0.102296308\n",
            "combined rouge average:\n",
            "0.0876764432\n",
            "\n",
            "best candidate summary:\n",
            "#Aurora I don't think I will ever see another quite like you again. # Good morning from @space_station! #\n",
            "golden summary:\n",
            "If you live in the northernmost U.S. state, you may want to stay up late this week\n",
            "rouge_1:\n",
            "0.123184919\n",
            "rouge_2:\n",
            "0.0374926552\n",
            "rouge_l:\n",
            "0.100390762\n",
            "combined rouge average:\n",
            "0.0863854513\n",
            "\n",
            "best candidate summary:\n",
            "Credit ratings agencies play a significant role in whether or not a company — or a country — falls into fiscal catastrophe. For now, they’re all leaving Japan alone.\n",
            "golden summary:\n",
            "Credit ratings agencies play a significant role in whether or not a company -- or a country -- falls into fiscal catastrophe. For now, they're all leaving Japan alone. The three largest credit rating agencies have said that it's too early to decide whether the recent earthquake will lead to downgrades for Japanese sovereign debt.\n",
            "rouge_1:\n",
            "0.129140258\n",
            "rouge_2:\n",
            "0.0447973646\n",
            "rouge_l:\n",
            "0.106908925\n",
            "combined rouge average:\n",
            "0.100669257\n",
            "\n",
            "best candidate summary:\n",
            "According to data by Jefferies, the outstanding shares held by short sellers on Noble Group increased from 50 million shares in April to around 400 million now. A dead cat bounce is a short-lived rally, often caused by short-covering, in a stock suffering from a prolonged decline.\n",
            "golden summary:\n",
            "A fresh round of stock buyback put some color back into shares of Noble Group, but analysts warn that the upside may be just a \"dead cat bounce.\"\n",
            "rouge_1:\n",
            "0.137286752\n",
            "rouge_2:\n",
            "0.0530351773\n",
            "rouge_l:\n",
            "0.114652291\n",
            "combined rouge average:\n",
            "0.102623343\n",
            "\n",
            "best candidate summary:\n",
            "Button and Mrs Michibata were married in December last year. ( Do you have any news photos or videos?\n",
            "golden summary:\n",
            "British Formula One driver Jenson Button and his wife Jessica were burgled while on holiday on the French Riviera, with thieves making off with her engagement ring, a spokesman said Thursday.\n",
            "rouge_1:\n",
            "0.138552815\n",
            "rouge_2:\n",
            "0.0535428226\n",
            "rouge_l:\n",
            "0.115534201\n",
            "combined rouge average:\n",
            "0.102465063\n",
            "\n",
            "best candidate summary:\n",
            "One soldier underwent a double leg amputation, while the other had one leg removed. Do you have any news photos or videos?\n",
            "golden summary:\n",
            "South Korea has threatened to retaliate after accusing North Korea of planting a mine that maimed two soldiers last week.\n",
            "rouge_1:\n",
            "0.137322485\n",
            "rouge_2:\n",
            "0.0528010726\n",
            "rouge_l:\n",
            "0.114833042\n",
            "combined rouge average:\n",
            "0.100857817\n",
            "\n",
            "best candidate summary:\n",
            "FedEx's numbers are the first real look at the impact the brutal winter had on the shipping industry. Companies across the board have been talking about how the weather hurt their quarterly results.\n",
            "golden summary:\n",
            "FedEx reported lower-than-expected results for the holiday quarter and gave a fiscal-year profit forecast below Wall Street estimates.\n",
            "rouge_1:\n",
            "0.13599737\n",
            "rouge_2:\n",
            "0.0516145304\n",
            "rouge_l:\n",
            "0.113604724\n",
            "combined rouge average:\n",
            "0.0999633297\n",
            "\n",
            "best candidate summary:\n",
            "The credit card you have in your wallet to save on gas may hurt you when you're not at the pump. Not a bad perk right now, but once gas prices rise, the savings drop.\n",
            "golden summary:\n",
            "A new survey finds gas station-branded credit cards charge the highest interest rates on average.\n",
            "rouge_1:\n",
            "0.136320487\n",
            "rouge_2:\n",
            "0.050480146\n",
            "rouge_l:\n",
            "0.113175087\n",
            "combined rouge average:\n",
            "0.100019872\n",
            "\n",
            "best candidate summary:\n",
            "Stock markets are falling fast. Other times, there’s no such rapid rebound.\n",
            "golden summary:\n",
            "Those heady days of consistent, high-octane growth in China seem to be over.\n",
            "rouge_1:\n",
            "0.135456696\n",
            "rouge_2:\n",
            "0.0493945517\n",
            "rouge_l:\n",
            "0.111981913\n",
            "combined rouge average:\n",
            "0.0978917852\n",
            "\n",
            "best candidate summary:\n",
            "It's not just Japan, either. Read MoreJohnnie Walker reinvents the…glass?\n",
            "golden summary:\n",
            "Suntory, has launched “Precious,\" a light beer targeted predominantly at women. Yet this drink has a secret ingredient: collagen.\n",
            "rouge_1:\n",
            "0.132604972\n",
            "rouge_2:\n",
            "0.0483546667\n",
            "rouge_l:\n",
            "0.109624401\n",
            "combined rouge average:\n",
            "0.095852375\n",
            "\n",
            "best candidate summary:\n",
            "\"What we focus on is really building the company for the next decade. This Is the future,\" he said.\n",
            "golden summary:\n",
            "LendingClub made a splashy debut Thursday on the New York Stock Exchange, pricing above the range at $15, then taking off in early trading.\n",
            "rouge_1:\n",
            "0.131309345\n",
            "rouge_2:\n",
            "0.0473576635\n",
            "rouge_l:\n",
            "0.108802609\n",
            "combined rouge average:\n",
            "0.0957946405\n",
            "\n"
          ]
        }
      ]
    },
    {
      "cell_type": "code",
      "source": [
        "import seaborn as sns\n",
        "result_b = []\n",
        "\n",
        "for i in test_summaries:\n",
        "    result_b.append(len(i.numpy().split()))\n",
        "\n",
        "sns.boxplot(data=result_b)"
      ],
      "metadata": {
        "colab": {
          "base_uri": "https://localhost:8080/",
          "height": 282
        },
        "id": "ITXk9Zvf1NYf",
        "outputId": "eb8b0bc9-2cca-4be5-9e46-5839f94df0c3"
      },
      "execution_count": null,
      "outputs": [
        {
          "output_type": "execute_result",
          "data": {
            "text/plain": [
              "<matplotlib.axes._subplots.AxesSubplot at 0x7f6df42dd1c0>"
            ]
          },
          "metadata": {},
          "execution_count": 23
        },
        {
          "output_type": "display_data",
          "data": {
            "text/plain": [
              "<Figure size 432x288 with 1 Axes>"
            ],
            "image/png": "[encoded data removed]"
          },
          "metadata": {
            "needs_background": "light"
          }
        }
      ]
    }
  ]
}