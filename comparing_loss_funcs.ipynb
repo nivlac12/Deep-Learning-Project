{
 "cells": [
  {
   "cell_type": "code",
   "execution_count": 1,
   "metadata": {},
   "outputs": [],
   "source": [
    "import torch\n",
    "import torch.nn as nn\n",
    "import tensorflow as tf\n",
    "import tensorflow_addons as tfa\n",
    "\n",
    "\n"
   ]
  },
  {
   "cell_type": "code",
   "execution_count": 9,
   "metadata": {},
   "outputs": [
    {
     "name": "stdout",
     "output_type": "stream",
     "text": [
      "input one:  tensor([-1.7428, -0.8819, -1.8060], requires_grad=True)\n",
      "input two:  tensor([ 0.2304,  0.1700, -0.5938], requires_grad=True)\n",
      "target:  tensor([-1.,  1.,  1.])\n",
      "output:  tensor(0.7547, grad_fn=<MeanBackward0>)\n"
     ]
    }
   ],
   "source": [
    "##ex code using marginrankingloss (pytorch) --> pairwise LF\n",
    "input_one = torch.randn(3, requires_grad=True)\n",
    "input_two = torch.randn(3, requires_grad=True)\n",
    "target = torch.randn(3).sign()\n",
    "\n",
    "ranking_loss = nn.MarginRankingLoss()\n",
    "output = ranking_loss(input_one, input_two, target)\n",
    "output.backward()\n",
    "\n",
    "print('input one: ', input_one)\n",
    "print('input two: ', input_two)\n",
    "print('target: ', target)\n",
    "print('output: ', output)\n",
    "\n"
   ]
  },
  {
   "cell_type": "code",
   "execution_count": 17,
   "metadata": {},
   "outputs": [
    {
     "name": "stdout",
     "output_type": "stream",
     "text": [
      "input one:  tensor([[1., 2.],\n",
      "        [3., 4.],\n",
      "        [5., 6.]], dtype=torch.float16, requires_grad=True)\n",
      "input two:  tensor([[1., 2.],\n",
      "        [3., 4.],\n",
      "        [5., 6.]], dtype=torch.float16, requires_grad=True)\n",
      "target:  tensor([0.0267])\n",
      "output:  tensor(0., grad_fn=<MeanBackward0>)\n"
     ]
    }
   ],
   "source": [
    "##ex code using marginrankingloss (pytorch) --> pairwise LF\n",
    "input_one = torch.tensor([[1, 2],\n",
    "                [3, 4],\n",
    "                [5, 6]], dtype=torch.float16,requires_grad=True)\n",
    "input_two = torch.tensor([[1, 2],\n",
    "                [3, 4],\n",
    "                [5, 6]], dtype=torch.float16,requires_grad=True)\n",
    "target = torch.randn(1)\n",
    "\n",
    "ranking_loss = nn.MarginRankingLoss()\n",
    "output = ranking_loss(input_one, input_two, target)\n",
    "output.backward()\n",
    "\n",
    "print('input one: ', input_one)\n",
    "print('input two: ', input_two)\n",
    "print('target: ', target)\n",
    "print('output: ', output)"
   ]
  },
  {
   "cell_type": "code",
   "execution_count": 20,
   "metadata": {},
   "outputs": [
    {
     "name": "stdout",
     "output_type": "stream",
     "text": [
      "input one:  tensor([[1., 2.],\n",
      "        [3., 4.],\n",
      "        [5., 6.]], dtype=torch.float16, requires_grad=True)\n",
      "input two:  tensor([[1., 2.],\n",
      "        [3., 4.],\n",
      "        [5., 6.]], dtype=torch.float16, requires_grad=True)\n",
      "target:  tf.Tensor([], shape=(1, 0), dtype=float32)\n",
      "output:  tensor(0., grad_fn=<MeanBackward0>)\n"
     ]
    },
    {
     "ename": "TypeError",
     "evalue": "contrastive_loss(y_true, y_pred, margin) missing required arguments: y_true, y_pred.",
     "output_type": "error",
     "traceback": [
      "\u001b[1;31m---------------------------------------------------------------------------\u001b[0m",
      "\u001b[1;31mTypeError\u001b[0m                                 Traceback (most recent call last)",
      "\u001b[1;32mc:\\Users\\braxt\\OneDrive\\Desktop\\DL Project with Latest Repo\\Deep-Learning-Project\\comparing_loss_funcs.ipynb Cell 4\u001b[0m in \u001b[0;36m<cell line: 16>\u001b[1;34m()\u001b[0m\n\u001b[0;32m     <a href='vscode-notebook-cell:/c%3A/Users/braxt/OneDrive/Desktop/DL%20Project%20with%20Latest%20Repo/Deep-Learning-Project/comparing_loss_funcs.ipynb#W2sZmlsZQ%3D%3D?line=13'>14</a>\u001b[0m \u001b[39mprint\u001b[39m(\u001b[39m'\u001b[39m\u001b[39mtarget: \u001b[39m\u001b[39m'\u001b[39m, target)\n\u001b[0;32m     <a href='vscode-notebook-cell:/c%3A/Users/braxt/OneDrive/Desktop/DL%20Project%20with%20Latest%20Repo/Deep-Learning-Project/comparing_loss_funcs.ipynb#W2sZmlsZQ%3D%3D?line=14'>15</a>\u001b[0m \u001b[39mprint\u001b[39m(\u001b[39m'\u001b[39m\u001b[39moutput: \u001b[39m\u001b[39m'\u001b[39m, output)\n\u001b[1;32m---> <a href='vscode-notebook-cell:/c%3A/Users/braxt/OneDrive/Desktop/DL%20Project%20with%20Latest%20Repo/Deep-Learning-Project/comparing_loss_funcs.ipynb#W2sZmlsZQ%3D%3D?line=15'>16</a>\u001b[0m tfa\u001b[39m.\u001b[39;49mlosses\u001b[39m.\u001b[39;49mcontrastive_loss()\n",
      "File \u001b[1;32mc:\\Users\\braxt\\anaconda3\\envs\\DL\\lib\\site-packages\\tensorflow\\python\\util\\traceback_utils.py:153\u001b[0m, in \u001b[0;36mfilter_traceback.<locals>.error_handler\u001b[1;34m(*args, **kwargs)\u001b[0m\n\u001b[0;32m    151\u001b[0m \u001b[39mexcept\u001b[39;00m \u001b[39mException\u001b[39;00m \u001b[39mas\u001b[39;00m e:\n\u001b[0;32m    152\u001b[0m   filtered_tb \u001b[39m=\u001b[39m _process_traceback_frames(e\u001b[39m.\u001b[39m__traceback__)\n\u001b[1;32m--> 153\u001b[0m   \u001b[39mraise\u001b[39;00m e\u001b[39m.\u001b[39mwith_traceback(filtered_tb) \u001b[39mfrom\u001b[39;00m \u001b[39mNone\u001b[39m\n\u001b[0;32m    154\u001b[0m \u001b[39mfinally\u001b[39;00m:\n\u001b[0;32m    155\u001b[0m   \u001b[39mdel\u001b[39;00m filtered_tb\n",
      "File \u001b[1;32mc:\\Users\\braxt\\anaconda3\\envs\\DL\\lib\\site-packages\\tensorflow\\python\\eager\\function.py:2713\u001b[0m, in \u001b[0;36mFunctionSpec.canonicalize_function_inputs\u001b[1;34m(self, *args, **kwargs)\u001b[0m\n\u001b[0;32m   2707\u001b[0m   \u001b[39mexcept\u001b[39;00m \u001b[39mKeyError\u001b[39;00m:\n\u001b[0;32m   2708\u001b[0m     missing_args \u001b[39m=\u001b[39m [\n\u001b[0;32m   2709\u001b[0m         \u001b[39mself\u001b[39m\u001b[39m.\u001b[39m_arg_names[i]\n\u001b[0;32m   2710\u001b[0m         \u001b[39mfor\u001b[39;00m i \u001b[39min\u001b[39;00m \u001b[39mrange\u001b[39m(arglen, \u001b[39mlen\u001b[39m(\u001b[39mself\u001b[39m\u001b[39m.\u001b[39m_arg_names))\n\u001b[0;32m   2711\u001b[0m         \u001b[39mif\u001b[39;00m i \u001b[39mnot\u001b[39;00m \u001b[39min\u001b[39;00m \u001b[39mself\u001b[39m\u001b[39m.\u001b[39m_arg_indices_to_default_values\n\u001b[0;32m   2712\u001b[0m     ]\n\u001b[1;32m-> 2713\u001b[0m     \u001b[39mraise\u001b[39;00m \u001b[39mTypeError\u001b[39;00m(\u001b[39mf\u001b[39m\u001b[39m\"\u001b[39m\u001b[39m{\u001b[39;00m\u001b[39mself\u001b[39m\u001b[39m.\u001b[39msignature_summary()\u001b[39m}\u001b[39;00m\u001b[39m missing required \u001b[39m\u001b[39m\"\u001b[39m\n\u001b[0;32m   2714\u001b[0m                     \u001b[39mf\u001b[39m\u001b[39m\"\u001b[39m\u001b[39marguments: \u001b[39m\u001b[39m{\u001b[39;00m\u001b[39m'\u001b[39m\u001b[39m, \u001b[39m\u001b[39m'\u001b[39m\u001b[39m.\u001b[39mjoin(missing_args)\u001b[39m}\u001b[39;00m\u001b[39m.\u001b[39m\u001b[39m\"\u001b[39m)\n\u001b[0;32m   2716\u001b[0m \u001b[39mif\u001b[39;00m \u001b[39mself\u001b[39m\u001b[39m.\u001b[39m_fullargspec\u001b[39m.\u001b[39mkwonlydefaults:\n\u001b[0;32m   2717\u001b[0m   kwargs\u001b[39m.\u001b[39mupdate(\u001b[39mself\u001b[39m\u001b[39m.\u001b[39m_fullargspec\u001b[39m.\u001b[39mkwonlydefaults)\n",
      "\u001b[1;31mTypeError\u001b[0m: contrastive_loss(y_true, y_pred, margin) missing required arguments: y_true, y_pred."
     ]
    }
   ],
   "source": [
    "##ex code using contrastive loss (tf)\n",
    "a = tf.constant([[1, 2],\n",
    "                [3, 4],\n",
    "                [5, 6]], dtype=tf.float16)\n",
    "b = tf.constant([[5, 9],\n",
    "                [3, 6],\n",
    "                [1, 8]], dtype=tf.float16)\n",
    "y_pred = tf.linalg.norm(a - b, axis=1)\n",
    "\n",
    "target = tf.random.normal([1,0])\n",
    "\n",
    "print('input one: ', input_one)\n",
    "print('input two: ', input_two)\n",
    "print('target: ', target)\n",
    "print('output: ', output)\n",
    "tfa.losses.contrastive_loss(target, y_pred, target)"
   ]
  }
 ],
 "metadata": {
  "kernelspec": {
   "display_name": "Python 3.8.13 ('DL')",
   "language": "python",
   "name": "python3"
  },
  "language_info": {
   "codemirror_mode": {
    "name": "ipython",
    "version": 3
   },
   "file_extension": ".py",
   "mimetype": "text/x-python",
   "name": "python",
   "nbconvert_exporter": "python",
   "pygments_lexer": "ipython3",
   "version": "3.8.13"
  },
  "orig_nbformat": 4,
  "vscode": {
   "interpreter": {
    "hash": "5aa53336a2b522ef795d0a0092d3c472e84d5f553c71ebbb8b10824290e20ff7"
   }
  }
 },
 "nbformat": 4,
 "nbformat_minor": 2
}
