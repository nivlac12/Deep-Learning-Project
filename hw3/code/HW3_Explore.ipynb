{
 "cells": [
  {
   "cell_type": "markdown",
   "metadata": {
    "id": "q5J62MkUD0xo"
   },
   "source": [
    "# HW3 Explore Notebook (2470 ONLY)\n",
    "\n",
    "In this explore notebook, you will be picking a dataset of choice and training a CNN Model on it!\n",
    "\n",
    "**This is an open-resource assignment with some restrictions on the final deliverable. Specifically, you are required to:** \n",
    "- Explore and visualize the dataset you choice. Some ideas include visualizing sample images, plotting the distribution of the input dataset, etc.\n",
    "- Include a preprocessing/data augmentation component (you can use Keras for this). You should NOT be simply downloading the data and using it as is.\n",
    "- Make at least two interesting visualizations relating to the model and explain why it is good to consider. \n",
    "    - Some valid ones include performance testing for a specific use case, visualization/analysis of latent-space outputs, or model interpretation. \n",
    "    - If the resource you use already has some downstream analysis, you can replicate two of them in your own style as one of your visualizations. \n",
    "- Create a modular system (feel free to use the classes you've already implemented in HW 3 or create new ones based on those). Modular means that related code is grouped into a separate class and it's easy to swap out layers and play around with hyperparameters. You may use Keras Subclassing of SequentialModel subclassing, but must take advantage of model.compile and model.fit with custom hyperparameters. \n",
    "\n",
    "- **YOU MUST CITE YOUR SOURCE(S).**\n",
    "\n",
    "**For All Requirements:**\n",
    "- **Use and briefly describe the dataset. Visualize entries and get some simple statistics:** Feel free to select a dataset from the [Tensorflow Dataset](https://www.tensorflow.org/datasets/catalog/overview) list! The following datasets **CANNOT** be used: \n",
    "    - MNIST and variants (including Fashion-MNIST).\n",
    "    - CIFAR and variants.\n",
    "- Make it easy to customize the model inside a notebook cell.  \n",
    "- If you would like, feel free to use transfer learning on an existing architecture. \n",
    "- Try to limit time spend on this notebook to around 2-4 hours."
   ]
  },
  {
   "cell_type": "code",
   "execution_count": null,
   "metadata": {},
   "outputs": [],
   "source": []
  }
 ],
 "metadata": {
  "colab": {
   "collapsed_sections": [],
   "provenance": []
  },
  "kernelspec": {
   "display_name": "Python 3 (ipykernel)",
   "language": "python",
   "name": "python3"
  },
  "language_info": {
   "codemirror_mode": {
    "name": "ipython",
    "version": 3
   },
   "file_extension": ".py",
   "mimetype": "text/x-python",
   "name": "python",
   "nbconvert_exporter": "python",
   "pygments_lexer": "ipython3",
   "version": "3.8.12"
  }
 },
 "nbformat": 4,
 "nbformat_minor": 4
}
